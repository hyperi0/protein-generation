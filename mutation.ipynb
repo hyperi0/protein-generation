{
 "cells": [
  {
   "cell_type": "code",
   "execution_count": 31,
   "metadata": {},
   "outputs": [],
   "source": [
    "from Bio.Seq import Seq, MutableSeq\n",
    "from Bio import SeqIO\n",
    "from Bio.SeqRecord import SeqRecord\n",
    "import random\n",
    "import subprocess\n",
    "import os"
   ]
  },
  {
   "cell_type": "markdown",
   "metadata": {},
   "source": [
    "### Mutate gene and check for missense"
   ]
  },
  {
   "cell_type": "code",
   "execution_count": 13,
   "metadata": {},
   "outputs": [],
   "source": [
    "def point_mutate(gene):\n",
    "    new_gene = MutableSeq(gene)\n",
    "    pos = random.randint(0, len(gene)-1)\n",
    "    old_base = gene[pos]\n",
    "    base_choices = ['A', 'T', 'C', 'G']\n",
    "    base_choices.remove(old_base)\n",
    "    new_base = random.choice(base_choices)\n",
    "    new_gene[pos] = new_base\n",
    "    return Seq(new_gene)"
   ]
  },
  {
   "cell_type": "code",
   "execution_count": 15,
   "metadata": {},
   "outputs": [],
   "source": [
    "seq_record = SeqIO.read('data/lacz_gene.fna', 'fasta')\n",
    "gene = seq_record.seq"
   ]
  },
  {
   "cell_type": "code",
   "execution_count": 17,
   "metadata": {},
   "outputs": [
    {
     "data": {
      "text/plain": [
       "[904]"
      ]
     },
     "execution_count": 17,
     "metadata": {},
     "output_type": "execute_result"
    }
   ],
   "source": [
    "new_gene = point_mutate(gene)\n",
    "protein = gene.translate()\n",
    "new_protein = new_gene.translate()\n",
    "[i for i in range(len(protein)) if protein[i] != new_protein[i]]"
   ]
  },
  {
   "cell_type": "markdown",
   "metadata": {},
   "source": [
    "### Save proteins for original and mutated gene in fasta format"
   ]
  },
  {
   "cell_type": "code",
   "execution_count": 19,
   "metadata": {},
   "outputs": [
    {
     "data": {
      "text/plain": [
       "1"
      ]
     },
     "execution_count": 19,
     "metadata": {},
     "output_type": "execute_result"
    }
   ],
   "source": [
    "orig_record = SeqRecord(\n",
    "    protein,\n",
    "    id='original_lacz_protein',\n",
    "    description='original lacz protein',\n",
    ")\n",
    "\n",
    "mutated_record = SeqRecord(\n",
    "    new_protein,\n",
    "    id='mutated_lacz_protein',\n",
    "    description='mutated lacz protein',\n",
    ")\n",
    "\n",
    "SeqIO.write(orig_record, 'data/original_lacz_protein.fasta', 'fasta')\n",
    "SeqIO.write(mutated_record, 'data/mutated_lacz_protein.fasta', 'fasta')"
   ]
  },
  {
   "cell_type": "markdown",
   "metadata": {},
   "source": [
    "### Run LocalColabFold"
   ]
  },
  {
   "cell_type": "code",
   "execution_count": 36,
   "metadata": {},
   "outputs": [],
   "source": [
    "def fold(input_file, output_dir):\n",
    "    command = [\n",
    "        \"colabfold_batch\", \n",
    "        input_file,\n",
    "        output_dir,\n",
    "        ## command args here\n",
    "    ]\n",
    "\n",
    "    custom_env = os.environ.copy()\n",
    "    custom_env[\"PATH\"] = '/usr/local/cuda-12.6/bin:/home/ben/gems/bin:/home/ben/.pyenv/shims:/home/ben/code/localcolabfold/colabfold-conda/bin:/home/ben/code/localcolabfold/colabfold-conda/bin:/usr/local/cuda-12.6/bin:/home/ben/gems/bin:/usr/local/cuda-12.6/bin:/home/ben/gems/bin:/usr/local/cuda-12.6/bin:/home/ben/gems/bin:/home/ben/gems/bin:/home/ben/.nvm/versions/node/v21.5.0/bin:/home/ben/.pyenv/bin:/usr/local/sbin:/usr/local/bin:/usr/sbin:/usr/bin:/sbin:/bin:/usr/games:/usr/local/games:/snap/bin'\n",
    "\n",
    "    try:\n",
    "        result = subprocess.run(\n",
    "            command,\n",
    "            capture_output=True,\n",
    "            text=True,\n",
    "            check=True,\n",
    "            env=custom_env,\n",
    "        )\n",
    "        print(\"Command executed successfully.\")\n",
    "        print(\"Output:\", result.stdout)\n",
    "    except subprocess.CalledProcessError as e:\n",
    "        print(\"Error during execution:\", e.stderr)"
   ]
  },
  {
   "cell_type": "code",
   "execution_count": 37,
   "metadata": {},
   "outputs": [
    {
     "name": "stdout",
     "output_type": "stream",
     "text": [
      "Error during execution: WARNING: All log messages before absl::InitializeLog() is called are written to STDERR\n",
      "E0000 00:00:1731537279.722701   60618 cuda_dnn.cc:8310] Unable to register cuDNN factory: Attempting to register factory for plugin cuDNN when one has already been registered\n",
      "E0000 00:00:1731537279.728185   60618 cuda_blas.cc:1418] Unable to register cuBLAS factory: Attempting to register factory for plugin cuBLAS when one has already been registered\n",
      "\n",
      "WARNING: You are welcome to use the default MSA server, however keep in mind that it's a\n",
      "limited shared resource only capable of processing a few thousand MSAs per day. Please\n",
      "submit jobs only from a single IP address. We reserve the right to limit access to the\n",
      "server case-by-case when usage exceeds fair use. If you require more MSAs: You can \n",
      "precompute all MSAs with `colabfold_search` or host your own API and pass it to `--host-url`\n",
      "\n",
      "Traceback (most recent call last):\n",
      "  File \"/home/ben/code/localcolabfold/colabfold-conda/bin/colabfold_batch\", line 8, in <module>\n",
      "    sys.exit(main())\n",
      "  File \"/home/ben/code/localcolabfold/colabfold-conda/lib/python3.10/site-packages/colabfold/batch.py\", line 2046, in main\n",
      "    run(\n",
      "  File \"/home/ben/code/localcolabfold/colabfold-conda/lib/python3.10/site-packages/colabfold/batch.py\", line 1298, in run\n",
      "    from alphafold.notebooks.notebook_utils import get_pae_json\n",
      "  File \"/home/ben/code/localcolabfold/colabfold-conda/lib/python3.10/site-packages/alphafold/notebooks/notebook_utils.py\", line 21, in <module>\n",
      "    from matplotlib import pyplot as plt\n",
      "  File \"/home/ben/code/localcolabfold/colabfold-conda/lib/python3.10/site-packages/matplotlib/__init__.py\", line 1270, in <module>\n",
      "    rcParams['backend'] = os.environ.get('MPLBACKEND')\n",
      "  File \"/home/ben/code/localcolabfold/colabfold-conda/lib/python3.10/site-packages/matplotlib/__init__.py\", line 738, in __setitem__\n",
      "    raise ValueError(f\"Key {key}: {ve}\") from None\n",
      "ValueError: Key backend: 'module://matplotlib_inline.backend_inline' is not a valid value for backend; supported values are ['gtk3agg', 'gtk3cairo', 'gtk4agg', 'gtk4cairo', 'macosx', 'nbagg', 'notebook', 'qtagg', 'qtcairo', 'qt5agg', 'qt5cairo', 'tkagg', 'tkcairo', 'webagg', 'wx', 'wxagg', 'wxcairo', 'agg', 'cairo', 'pdf', 'pgf', 'ps', 'svg', 'template']\n",
      "\n"
     ]
    }
   ],
   "source": [
    "fold('data/original_lacz_protein.fasta', 'original_lacz_protein_output/')"
   ]
  }
 ],
 "metadata": {
  "kernelspec": {
   "display_name": "bio",
   "language": "python",
   "name": "python3"
  },
  "language_info": {
   "codemirror_mode": {
    "name": "ipython",
    "version": 3
   },
   "file_extension": ".py",
   "mimetype": "text/x-python",
   "name": "python",
   "nbconvert_exporter": "python",
   "pygments_lexer": "ipython3",
   "version": "3.11.3"
  }
 },
 "nbformat": 4,
 "nbformat_minor": 2
}
