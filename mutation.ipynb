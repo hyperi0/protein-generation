{
 "cells": [
  {
   "cell_type": "code",
   "execution_count": 2,
   "metadata": {},
   "outputs": [],
   "source": [
    "from Bio.Seq import Seq, MutableSeq\n",
    "from Bio import SeqIO\n",
    "from Bio.SeqRecord import SeqRecord\n",
    "import random\n",
    "import subprocess\n",
    "import os"
   ]
  },
  {
   "cell_type": "markdown",
   "metadata": {},
   "source": [
    "### Mutate gene and check for missense"
   ]
  },
  {
   "cell_type": "code",
   "execution_count": 25,
   "metadata": {},
   "outputs": [],
   "source": [
    "def point_mutate(gene):\n",
    "    new_gene = MutableSeq(gene)\n",
    "    pos = random.randint(0, len(gene)-1)\n",
    "    old_base = gene[pos]\n",
    "    base_choices = ['A', 'T', 'C', 'G']\n",
    "    base_choices.remove(old_base)\n",
    "    new_base = random.choice(base_choices)\n",
    "    new_gene[pos] = new_base\n",
    "    return Seq(new_gene)"
   ]
  },
  {
   "cell_type": "code",
   "execution_count": 26,
   "metadata": {},
   "outputs": [],
   "source": [
    "def to_stop(gene):\n",
    "    new_gene = MutableSeq(gene)\n",
    "    stop_pos = new_gene.find('*')\n",
    "    if stop_pos != -1:\n",
    "        new_gene = new_gene[:stop_pos]\n",
    "    return Seq(new_gene)"
   ]
  },
  {
   "cell_type": "code",
   "execution_count": 27,
   "metadata": {},
   "outputs": [],
   "source": [
    "seq_record = SeqIO.read('data/lacz_gene.fna', 'fasta')\n",
    "gene = seq_record.seq"
   ]
  },
  {
   "cell_type": "code",
   "execution_count": 32,
   "metadata": {},
   "outputs": [
    {
     "data": {
      "text/plain": [
       "[887]"
      ]
     },
     "execution_count": 32,
     "metadata": {},
     "output_type": "execute_result"
    }
   ],
   "source": [
    "new_gene = point_mutate(gene)\n",
    "protein = gene.translate(stop_symbol=\"\")\n",
    "new_protein = new_gene.translate(stop_symbol=\"\")\n",
    "[i for i in range(len(protein)) if protein[i] != new_protein[i]]"
   ]
  },
  {
   "cell_type": "markdown",
   "metadata": {},
   "source": [
    "### Save proteins for original and mutated gene in fasta format"
   ]
  },
  {
   "cell_type": "code",
   "execution_count": 33,
   "metadata": {},
   "outputs": [
    {
     "data": {
      "text/plain": [
       "1"
      ]
     },
     "execution_count": 33,
     "metadata": {},
     "output_type": "execute_result"
    }
   ],
   "source": [
    "orig_record = SeqRecord(\n",
    "    protein,\n",
    "    id='original_lacz_protein',\n",
    "    description='original lacz protein',\n",
    ")\n",
    "\n",
    "mutated_record = SeqRecord(\n",
    "    new_protein,\n",
    "    id='mutated_lacz_protein',\n",
    "    description='mutated lacz protein',\n",
    ")\n",
    "\n",
    "SeqIO.write(orig_record, 'data/original_lacz_protein.fasta', 'fasta')\n",
    "SeqIO.write(mutated_record, 'data/mutated_lacz_protein.fasta', 'fasta')"
   ]
  },
  {
   "cell_type": "markdown",
   "metadata": {},
   "source": [
    "### Run LocalColabFold"
   ]
  },
  {
   "cell_type": "code",
   "execution_count": 34,
   "metadata": {},
   "outputs": [],
   "source": [
    "input_dir = 'data' #@param {type:\"string\"}\n",
    "result_dir = 'output' #@param {type:\"string\"}\n",
    "\n",
    "# number of models to use\n",
    "#@markdown ---\n",
    "#@markdown ### Advanced settings\n",
    "msa_mode = \"single_sequence\" #@param [\"MMseqs2 (UniRef+Environmental)\", \"MMseqs2 (UniRef only)\",\"single_sequence\",\"custom\"]\n",
    "num_models = 1 #@param [1,2,3,4,5] {type:\"raw\"}\n",
    "num_recycles = 3 #@param [1,3,6,12,24,48] {type:\"raw\"}\n",
    "stop_at_score = 100 #@param {type:\"string\"}\n",
    "#@markdown - early stop computing models once score > threshold (avg. plddt for \"structures\" and ptmscore for \"complexes\")\n",
    "use_custom_msa = False\n",
    "num_relax = 0 #@param [0, 1, 5] {type:\"raw\"}\n",
    "use_amber = num_relax > 0\n",
    "relax_max_iterations = 200 #@param [0,200,2000] {type:\"raw\"}\n",
    "use_templates = False #@param {type:\"boolean\"}\n",
    "do_not_overwrite_results = True #@param {type:\"boolean\"}\n",
    "zip_results = False #@param {type:\"boolean\"}\n"
   ]
  },
  {
   "cell_type": "code",
   "execution_count": 35,
   "metadata": {},
   "outputs": [],
   "source": [
    "import sys\n",
    "\n",
    "from colabfold.batch import get_queries, run\n",
    "from colabfold.download import default_data_dir\n",
    "from colabfold.utils import setup_logging\n",
    "from pathlib import Path\n",
    "\n",
    "# For some reason we need that to get pdbfixer to import\n",
    "if use_amber and f\"/usr/local/lib/python{python_version}/site-packages/\" not in sys.path:\n",
    "    sys.path.insert(0, f\"/usr/local/lib/python{python_version}/site-packages/\")\n",
    "\n",
    "setup_logging(Path(result_dir).joinpath(\"log.txt\"))"
   ]
  },
  {
   "cell_type": "code",
   "execution_count": 36,
   "metadata": {},
   "outputs": [
    {
     "name": "stdout",
     "output_type": "stream",
     "text": [
      "2024-11-15 17:29:57,850 non-fasta/a3m file in input directory: data/lacz_gene.fna\n",
      "2024-11-15 17:29:57,850 non-fasta/a3m file in input directory: data/shh.fna\n",
      "2024-11-15 17:29:57,851 Running on GPU\n",
      "2024-11-15 17:29:57,854 Found 2 citations for tools or databases\n",
      "2024-11-15 17:29:57,854 Skipping colabfold_sample (already done)\n",
      "2024-11-15 17:29:57,855 Query 2/3: mutated_lacz_protein (length 1024)\n",
      "2024-11-15 17:31:33,741 alphafold2_ptm_model_1_seed_000 recycle=0 pLDDT=25.7 pTM=0.205\n",
      "2024-11-15 17:32:49,732 alphafold2_ptm_model_1_seed_000 recycle=1 pLDDT=24.5 pTM=0.221 tol=22.2\n",
      "2024-11-15 17:34:03,677 alphafold2_ptm_model_1_seed_000 recycle=2 pLDDT=25.1 pTM=0.232 tol=16\n",
      "2024-11-15 17:35:17,338 alphafold2_ptm_model_1_seed_000 recycle=3 pLDDT=25.7 pTM=0.238 tol=6.6\n",
      "2024-11-15 17:35:17,351 alphafold2_ptm_model_1_seed_000 took 315.2s (3 recycles)\n",
      "2024-11-15 17:35:18,319 reranking models by 'plddt' metric\n",
      "2024-11-15 17:35:18,319 rank_001_alphafold2_ptm_model_1_seed_000 pLDDT=25.7 pTM=0.238\n",
      "2024-11-15 17:35:19,132 Query 3/3: original_lacz_protein (length 1024)\n",
      "2024-11-15 17:36:33,873 alphafold2_ptm_model_1_seed_000 recycle=0 pLDDT=25.7 pTM=0.208\n",
      "2024-11-15 17:37:48,182 alphafold2_ptm_model_1_seed_000 recycle=1 pLDDT=24.5 pTM=0.221 tol=20.4\n",
      "2024-11-15 17:39:01,913 alphafold2_ptm_model_1_seed_000 recycle=2 pLDDT=25.1 pTM=0.233 tol=14.3\n",
      "2024-11-15 17:40:15,851 alphafold2_ptm_model_1_seed_000 recycle=3 pLDDT=25.7 pTM=0.237 tol=6.88\n",
      "2024-11-15 17:40:15,853 alphafold2_ptm_model_1_seed_000 took 295.6s (3 recycles)\n",
      "2024-11-15 17:40:16,792 reranking models by 'plddt' metric\n",
      "2024-11-15 17:40:16,792 rank_001_alphafold2_ptm_model_1_seed_000 pLDDT=25.7 pTM=0.237\n",
      "2024-11-15 17:40:17,608 Done\n"
     ]
    },
    {
     "data": {
      "text/plain": [
       "{'rank': [['rank_001_alphafold2_ptm_model_1_seed_000'],\n",
       "  ['rank_001_alphafold2_ptm_model_1_seed_000']],\n",
       " 'metric': [[{'mean_plddt': 25.71875,\n",
       "    'ptm': 0.2376708984375,\n",
       "    'print_line': ' pLDDT=25.7 pTM=0.238'}],\n",
       "  [{'mean_plddt': 25.6875,\n",
       "    'ptm': 0.236572265625,\n",
       "    'print_line': ' pLDDT=25.7 pTM=0.237'}]]}"
      ]
     },
     "execution_count": 36,
     "metadata": {},
     "output_type": "execute_result"
    }
   ],
   "source": [
    "queries, is_complex = get_queries(input_dir)\n",
    "run(\n",
    "    queries=queries,\n",
    "    result_dir=result_dir,\n",
    "    use_templates=use_templates,\n",
    "    num_relax=num_relax,\n",
    "    relax_max_iterations=relax_max_iterations,\n",
    "    msa_mode=msa_mode,\n",
    "    model_type=\"auto\",\n",
    "    num_models=num_models,\n",
    "    num_recycles=num_recycles,\n",
    "    model_order=[1, 2, 3, 4, 5],\n",
    "    is_complex=is_complex,\n",
    "    data_dir=default_data_dir,\n",
    "    keep_existing_results=do_not_overwrite_results,\n",
    "    rank_by=\"auto\",\n",
    "    pair_mode=\"unpaired+paired\",\n",
    "    stop_at_score=stop_at_score,\n",
    "    zip_results=zip_results,\n",
    "    user_agent=\"colabfold/google-colab-batch\",\n",
    ")"
   ]
  },
  {
   "cell_type": "code",
   "execution_count": null,
   "metadata": {},
   "outputs": [],
   "source": []
  }
 ],
 "metadata": {
  "kernelspec": {
   "display_name": "Python 3",
   "language": "python",
   "name": "python3"
  },
  "language_info": {
   "codemirror_mode": {
    "name": "ipython",
    "version": 3
   },
   "file_extension": ".py",
   "mimetype": "text/x-python",
   "name": "python",
   "nbconvert_exporter": "python",
   "pygments_lexer": "ipython3",
   "version": "3.10.15"
  }
 },
 "nbformat": 4,
 "nbformat_minor": 2
}
