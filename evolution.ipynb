{
 "cells": [
  {
   "cell_type": "code",
   "execution_count": 1,
   "metadata": {},
   "outputs": [
    {
     "name": "stderr",
     "output_type": "stream",
     "text": [
      "WARNING: All log messages before absl::InitializeLog() is called are written to STDERR\n",
      "E0000 00:00:1732811963.665660   65401 cuda_dnn.cc:8310] Unable to register cuDNN factory: Attempting to register factory for plugin cuDNN when one has already been registered\n",
      "E0000 00:00:1732811963.671251   65401 cuda_blas.cc:1418] Unable to register cuBLAS factory: Attempting to register factory for plugin cuBLAS when one has already been registered\n"
     ]
    }
   ],
   "source": [
    "from Bio.Seq import Seq, MutableSeq\n",
    "from Bio import SeqIO\n",
    "from Bio.SeqRecord import SeqRecord\n",
    "import random\n",
    "import json\n",
    "import os\n",
    "from gene import Gene\n",
    "import sys\n",
    "import numpy as np\n",
    "\n",
    "from colabfold.batch import get_queries, run\n",
    "from colabfold.download import default_data_dir\n",
    "from colabfold.utils import setup_logging\n",
    "from pathlib import Path"
   ]
  },
  {
   "cell_type": "code",
   "execution_count": 2,
   "metadata": {},
   "outputs": [],
   "source": [
    "def save_protein(protein, ident, desc, filename):\n",
    "    record = SeqRecord(protein, id=ident, description=desc)\n",
    "    SeqIO.write(record, filename, 'fasta')"
   ]
  },
  {
   "cell_type": "code",
   "execution_count": 3,
   "metadata": {},
   "outputs": [],
   "source": [
    "def first_generation(n_genes, n_bases, filepath='evolution'):\n",
    "    try:\n",
    "        os.mkdir('evolution/gen0/')\n",
    "    except FileExistsError:\n",
    "        pass\n",
    "    genes = [Gene(n_bases) for _ in range(n_genes)]\n",
    "    for i, gene in enumerate(genes):\n",
    "        ident = f'gen0_gene{i}'\n",
    "        save_protein(gene.get_protein(), ident, str(gene), f'{filepath}/gen0/{ident}.fasta')\n",
    "    return genes"
   ]
  },
  {
   "cell_type": "code",
   "execution_count": 4,
   "metadata": {},
   "outputs": [],
   "source": [
    "colabfold_params = {\n",
    "    'msa_mode': \"single_sequence\", #@param [\"MMseqs2 (UniRef+Environmental)\", \"MMseqs2 (UniRef only)\",\"single_sequence\",\"custom\"]\n",
    "    'num_models': 1, #@param [1,2,3,4,5] {type:\"raw\"}\n",
    "    'num_recycles': 3, #@param [1,3,6,12,24,48] {type:\"raw\"}\n",
    "    'stop_at_score': 100, #@param {type:\"string\"}\n",
    "    #'use_custom_msa': False,\n",
    "    'num_relax': 0, #@param [0, 1, 5] {type:\"raw\"}\n",
    "    'use_amber': False,\n",
    "    'relax_max_iterations': 200, #@param [0,200,2000] {type:\"raw\"}\n",
    "    'use_templates': False, #@param {type:\"boolean\"}\n",
    "    'keep_existing_results': True, #@param {type:\"boolean\"}\n",
    "    'zip_results': False, #@param {type:\"boolean\"}\n",
    "    'model_type': \"auto\",\n",
    "    'model_order': [1, 2, 3, 4, 5],\n",
    "    'data_dir': default_data_dir,\n",
    "    'keep_existing_results': True,\n",
    "    'rank_by': \"auto\",\n",
    "    'pair_mode': \"unpaired+paired\",\n",
    "    'user_agent': \"colabfold/google-colab-batch\",\n",
    "}"
   ]
  },
  {
   "cell_type": "code",
   "execution_count": 5,
   "metadata": {},
   "outputs": [],
   "source": [
    "# this is from the colabfold jupyter notebook, not using amber so dont need atm\n",
    "# intron irl\n",
    "\n",
    "# For some reason we need that to get pdbfixer to import\n",
    "#if use_amber and f\"/usr/local/lib/python{python_version}/site-packages/\" not in sys.path:\n",
    "#    sys.path.insert(0, f\"/usr/local/lib/python{python_version}/site-packages/\")"
   ]
  },
  {
   "cell_type": "code",
   "execution_count": 6,
   "metadata": {},
   "outputs": [],
   "source": [
    "def fold(input_dir, result_dir, kwargs):\n",
    "    setup_logging(Path(result_dir).joinpath(\"log.txt\"))\n",
    "    kwargs['queries'], kwargs['is_complex'] = get_queries(input_dir)\n",
    "    kwargs['result_dir'] = result_dir\n",
    "    results = run(**kwargs)\n",
    "    return results"
   ]
  },
  {
   "cell_type": "code",
   "execution_count": 27,
   "metadata": {},
   "outputs": [],
   "source": [
    "def calculate_fitnesses(results):\n",
    "    fitnesses = []\n",
    "    for metric in results['metric']:\n",
    "        mean_plddt, ptm = metric[0]['mean_plddt'], metric[0]['ptm']\n",
    "        fitness = (mean_plddt / 100) * 0.5 + ptm * 0.5\n",
    "        fitnesses.append(fitness)\n",
    "    return fitnesses"
   ]
  },
  {
   "cell_type": "code",
   "execution_count": 8,
   "metadata": {},
   "outputs": [],
   "source": [
    "def select(genes, fitnesses, n, method='weak'):\n",
    "    if method == 'weak':\n",
    "        return random.choices(genes, weights=fitnesses, k=n)\n",
    "    else:\n",
    "        print('not implemented hehe :3')\n",
    "        return None"
   ]
  },
  {
   "cell_type": "code",
   "execution_count": 15,
   "metadata": {},
   "outputs": [],
   "source": [
    "genes = [Gene(30) for _ in range(10)]\n",
    "for i, gene in enumerate(genes):\n",
    "    protein = gene.get_protein()\n",
    "    record = SeqRecord(protein, id=str(i), description=str(gene))\n",
    "    SeqIO.write(record, f'proteins/gen0/gene{i}.fasta', 'fasta')"
   ]
  },
  {
   "cell_type": "code",
   "execution_count": 16,
   "metadata": {},
   "outputs": [
    {
     "name": "stdout",
     "output_type": "stream",
     "text": [
      "2024-11-28 11:40:44,708 Running on GPU\n",
      "2024-11-28 11:40:45,250 Found 2 citations for tools or databases\n",
      "2024-11-28 11:40:45,250 Query 1/10: gene0 (length 9)\n"
     ]
    },
    {
     "name": "stderr",
     "output_type": "stream",
     "text": [
      "WARNING: All log messages before absl::InitializeLog() is called are written to STDERR\n",
      "I0000 00:00:1732812051.664983   65401 mlir_graph_optimization_pass.cc:401] MLIR V1 optimization pass is not enabled\n"
     ]
    },
    {
     "name": "stdout",
     "output_type": "stream",
     "text": [
      "2024-11-28 11:40:51,875 Padding length to 10\n",
      "2024-11-28 11:41:01,873 alphafold2_ptm_model_1_seed_000 recycle=0 pLDDT=71.8 pTM=0.045\n",
      "2024-11-28 11:41:01,970 alphafold2_ptm_model_1_seed_000 recycle=1 pLDDT=68.6 pTM=0.044 tol=0.271\n",
      "2024-11-28 11:41:02,055 alphafold2_ptm_model_1_seed_000 recycle=2 pLDDT=67.9 pTM=0.0442 tol=0.0969\n",
      "2024-11-28 11:41:02,141 alphafold2_ptm_model_1_seed_000 recycle=3 pLDDT=67.1 pTM=0.0441 tol=0.044\n",
      "2024-11-28 11:41:02,142 alphafold2_ptm_model_1_seed_000 took 10.3s (3 recycles)\n",
      "2024-11-28 11:41:02,145 reranking models by 'plddt' metric\n",
      "2024-11-28 11:41:02,146 rank_001_alphafold2_ptm_model_1_seed_000 pLDDT=67.1 pTM=0.0441\n",
      "2024-11-28 11:41:02,469 Query 2/10: gene2 (length 9)\n",
      "2024-11-28 11:41:03,619 Padding length to 10\n",
      "2024-11-28 11:41:03,706 alphafold2_ptm_model_1_seed_000 recycle=0 pLDDT=77.2 pTM=0.049\n",
      "2024-11-28 11:41:03,790 alphafold2_ptm_model_1_seed_000 recycle=1 pLDDT=82.4 pTM=0.0501 tol=0.261\n",
      "2024-11-28 11:41:03,876 alphafold2_ptm_model_1_seed_000 recycle=2 pLDDT=82.1 pTM=0.0497 tol=0.33\n",
      "2024-11-28 11:41:03,962 alphafold2_ptm_model_1_seed_000 recycle=3 pLDDT=83.6 pTM=0.0497 tol=0.182\n",
      "2024-11-28 11:41:03,962 alphafold2_ptm_model_1_seed_000 took 0.3s (3 recycles)\n",
      "2024-11-28 11:41:03,964 reranking models by 'plddt' metric\n",
      "2024-11-28 11:41:03,964 rank_001_alphafold2_ptm_model_1_seed_000 pLDDT=83.6 pTM=0.0497\n",
      "2024-11-28 11:41:04,274 Query 3/10: gene3 (length 9)\n",
      "2024-11-28 11:41:05,391 Padding length to 10\n",
      "2024-11-28 11:41:05,479 alphafold2_ptm_model_1_seed_000 recycle=0 pLDDT=69.5 pTM=0.0494\n",
      "2024-11-28 11:41:05,564 alphafold2_ptm_model_1_seed_000 recycle=1 pLDDT=69.7 pTM=0.0485 tol=0.782\n",
      "2024-11-28 11:41:05,650 alphafold2_ptm_model_1_seed_000 recycle=2 pLDDT=71.1 pTM=0.0479 tol=0.41\n",
      "2024-11-28 11:41:05,736 alphafold2_ptm_model_1_seed_000 recycle=3 pLDDT=70.9 pTM=0.0474 tol=0.615\n",
      "2024-11-28 11:41:05,737 alphafold2_ptm_model_1_seed_000 took 0.3s (3 recycles)\n",
      "2024-11-28 11:41:05,740 reranking models by 'plddt' metric\n",
      "2024-11-28 11:41:05,740 rank_001_alphafold2_ptm_model_1_seed_000 pLDDT=70.9 pTM=0.0474\n",
      "2024-11-28 11:41:06,050 Query 4/10: gene7 (length 9)\n",
      "2024-11-28 11:41:07,175 Padding length to 10\n",
      "2024-11-28 11:41:07,262 alphafold2_ptm_model_1_seed_000 recycle=0 pLDDT=70.6 pTM=0.0438\n",
      "2024-11-28 11:41:07,348 alphafold2_ptm_model_1_seed_000 recycle=1 pLDDT=74.8 pTM=0.0434 tol=0.32\n",
      "2024-11-28 11:41:07,434 alphafold2_ptm_model_1_seed_000 recycle=2 pLDDT=76.1 pTM=0.0436 tol=0.0936\n",
      "2024-11-28 11:41:07,521 alphafold2_ptm_model_1_seed_000 recycle=3 pLDDT=76.5 pTM=0.0436 tol=0.0369\n",
      "2024-11-28 11:41:07,521 alphafold2_ptm_model_1_seed_000 took 0.3s (3 recycles)\n",
      "2024-11-28 11:41:07,524 reranking models by 'plddt' metric\n",
      "2024-11-28 11:41:07,524 rank_001_alphafold2_ptm_model_1_seed_000 pLDDT=76.5 pTM=0.0436\n",
      "2024-11-28 11:41:07,834 Query 5/10: gene8 (length 9)\n",
      "2024-11-28 11:41:08,985 Padding length to 10\n",
      "2024-11-28 11:41:09,071 alphafold2_ptm_model_1_seed_000 recycle=0 pLDDT=74.1 pTM=0.0511\n",
      "2024-11-28 11:41:09,157 alphafold2_ptm_model_1_seed_000 recycle=1 pLDDT=77.4 pTM=0.0522 tol=0.429\n",
      "2024-11-28 11:41:09,243 alphafold2_ptm_model_1_seed_000 recycle=2 pLDDT=80.9 pTM=0.0547 tol=0.323\n",
      "2024-11-28 11:41:09,330 alphafold2_ptm_model_1_seed_000 recycle=3 pLDDT=83.1 pTM=0.0569 tol=0.257\n",
      "2024-11-28 11:41:09,330 alphafold2_ptm_model_1_seed_000 took 0.3s (3 recycles)\n",
      "2024-11-28 11:41:09,332 reranking models by 'plddt' metric\n",
      "2024-11-28 11:41:09,332 rank_001_alphafold2_ptm_model_1_seed_000 pLDDT=83.1 pTM=0.0569\n",
      "2024-11-28 11:41:09,708 Query 6/10: gene9 (length 9)\n",
      "2024-11-28 11:41:10,851 Padding length to 10\n",
      "2024-11-28 11:41:10,937 alphafold2_ptm_model_1_seed_000 recycle=0 pLDDT=78.4 pTM=0.0469\n",
      "2024-11-28 11:41:11,022 alphafold2_ptm_model_1_seed_000 recycle=1 pLDDT=77.6 pTM=0.0465 tol=0.236\n",
      "2024-11-28 11:41:11,108 alphafold2_ptm_model_1_seed_000 recycle=2 pLDDT=78.2 pTM=0.0467 tol=0.105\n",
      "2024-11-28 11:41:11,193 alphafold2_ptm_model_1_seed_000 recycle=3 pLDDT=78.4 pTM=0.0467 tol=0.0608\n",
      "2024-11-28 11:41:11,194 alphafold2_ptm_model_1_seed_000 took 0.3s (3 recycles)\n",
      "2024-11-28 11:41:11,196 reranking models by 'plddt' metric\n",
      "2024-11-28 11:41:11,196 rank_001_alphafold2_ptm_model_1_seed_000 pLDDT=78.4 pTM=0.0467\n",
      "2024-11-28 11:41:11,786 Query 7/10: gene1 (length 10)\n",
      "2024-11-28 11:41:13,085 alphafold2_ptm_model_1_seed_000 recycle=0 pLDDT=77.9 pTM=0.0418\n",
      "2024-11-28 11:41:13,191 alphafold2_ptm_model_1_seed_000 recycle=1 pLDDT=78.2 pTM=0.0422 tol=0.325\n",
      "2024-11-28 11:41:13,282 alphafold2_ptm_model_1_seed_000 recycle=2 pLDDT=78.8 pTM=0.0423 tol=0.212\n",
      "2024-11-28 11:41:13,368 alphafold2_ptm_model_1_seed_000 recycle=3 pLDDT=77.9 pTM=0.0425 tol=0.102\n",
      "2024-11-28 11:41:13,369 alphafold2_ptm_model_1_seed_000 took 0.4s (3 recycles)\n",
      "2024-11-28 11:41:13,372 reranking models by 'plddt' metric\n",
      "2024-11-28 11:41:13,372 rank_001_alphafold2_ptm_model_1_seed_000 pLDDT=77.9 pTM=0.0425\n",
      "2024-11-28 11:41:13,674 Query 8/10: gene4 (length 10)\n",
      "2024-11-28 11:41:15,062 alphafold2_ptm_model_1_seed_000 recycle=0 pLDDT=73.9 pTM=0.0412\n",
      "2024-11-28 11:41:15,150 alphafold2_ptm_model_1_seed_000 recycle=1 pLDDT=79.3 pTM=0.0419 tol=0.194\n",
      "2024-11-28 11:41:15,238 alphafold2_ptm_model_1_seed_000 recycle=2 pLDDT=74.6 pTM=0.0415 tol=0.33\n",
      "2024-11-28 11:41:15,326 alphafold2_ptm_model_1_seed_000 recycle=3 pLDDT=74.9 pTM=0.0415 tol=0.208\n",
      "2024-11-28 11:41:15,326 alphafold2_ptm_model_1_seed_000 took 0.4s (3 recycles)\n",
      "2024-11-28 11:41:15,328 reranking models by 'plddt' metric\n",
      "2024-11-28 11:41:15,329 rank_001_alphafold2_ptm_model_1_seed_000 pLDDT=74.9 pTM=0.0415\n",
      "2024-11-28 11:41:15,632 Query 9/10: gene5 (length 10)\n",
      "2024-11-28 11:41:16,907 alphafold2_ptm_model_1_seed_000 recycle=0 pLDDT=68.3 pTM=0.0403\n",
      "2024-11-28 11:41:16,994 alphafold2_ptm_model_1_seed_000 recycle=1 pLDDT=71.5 pTM=0.0401 tol=0.26\n",
      "2024-11-28 11:41:17,080 alphafold2_ptm_model_1_seed_000 recycle=2 pLDDT=71.6 pTM=0.0403 tol=0.0937\n",
      "2024-11-28 11:41:17,167 alphafold2_ptm_model_1_seed_000 recycle=3 pLDDT=71.4 pTM=0.0398 tol=0.13\n",
      "2024-11-28 11:41:17,167 alphafold2_ptm_model_1_seed_000 took 0.3s (3 recycles)\n",
      "2024-11-28 11:41:17,170 reranking models by 'plddt' metric\n",
      "2024-11-28 11:41:17,170 rank_001_alphafold2_ptm_model_1_seed_000 pLDDT=71.4 pTM=0.0398\n",
      "2024-11-28 11:41:17,472 Query 10/10: gene6 (length 10)\n",
      "2024-11-28 11:41:18,698 alphafold2_ptm_model_1_seed_000 recycle=0 pLDDT=80.9 pTM=0.0419\n",
      "2024-11-28 11:41:18,784 alphafold2_ptm_model_1_seed_000 recycle=1 pLDDT=79 pTM=0.042 tol=0.678\n",
      "2024-11-28 11:41:18,871 alphafold2_ptm_model_1_seed_000 recycle=2 pLDDT=74.1 pTM=0.0414 tol=1.37\n",
      "2024-11-28 11:41:18,956 alphafold2_ptm_model_1_seed_000 recycle=3 pLDDT=72.4 pTM=0.0417 tol=0.294\n",
      "2024-11-28 11:41:18,957 alphafold2_ptm_model_1_seed_000 took 0.3s (3 recycles)\n",
      "2024-11-28 11:41:18,959 reranking models by 'plddt' metric\n",
      "2024-11-28 11:41:18,959 rank_001_alphafold2_ptm_model_1_seed_000 pLDDT=72.4 pTM=0.0417\n",
      "2024-11-28 11:41:19,253 Done\n"
     ]
    }
   ],
   "source": [
    "results = fold('proteins/gen0', 'folds/gen0', colabfold_params)"
   ]
  },
  {
   "cell_type": "code",
   "execution_count": 17,
   "metadata": {},
   "outputs": [],
   "source": [
    "fitnesses = calculate_fitnesses(results)\n",
    "selection = np.random.choice(genes, size=5, replace=False, p=fitnesses)\n",
    "next_gen = {gene: fitness for gene, fitness in zip(genes, fitnesses) if gene in selection}"
   ]
  },
  {
   "cell_type": "code",
   "execution_count": 21,
   "metadata": {},
   "outputs": [
    {
     "name": "stderr",
     "output_type": "stream",
     "text": [
      "/home/ben/code/localcolabfold/colabfold-conda/lib/python3.10/site-packages/Bio/Seq.py:2880: BiopythonWarning: Partial codon, len(sequence) not a multiple of three. Explicitly trim the sequence or add trailing N before translation. This may become an error in future.\n",
      "  warnings.warn(\n"
     ]
    }
   ],
   "source": [
    "os.mkdir('proteins/gen1')\n",
    "mutations = [gene.random_mutation() for gene in next_gen.keys()]\n",
    "for i, gene in enumerate(mutations):\n",
    "    protein = gene.get_protein()\n",
    "    record = SeqRecord(protein, id=str(i), description=str(gene))\n",
    "    SeqIO.write(record, f'proteins/gen1/gene{i}.fasta', 'fasta')"
   ]
  },
  {
   "cell_type": "code",
   "execution_count": 22,
   "metadata": {},
   "outputs": [
    {
     "name": "stdout",
     "output_type": "stream",
     "text": [
      "2024-11-28 11:44:46,490 Running on GPU\n",
      "2024-11-28 11:44:46,494 Found 2 citations for tools or databases\n",
      "2024-11-28 11:44:46,494 Query 1/5: gene1 (length 9)\n",
      "2024-11-28 11:44:50,383 Padding length to 18\n",
      "2024-11-28 11:45:00,517 alphafold2_ptm_model_1_seed_000 recycle=0 pLDDT=76.9 pTM=0.046\n",
      "2024-11-28 11:45:00,648 alphafold2_ptm_model_1_seed_000 recycle=1 pLDDT=78.3 pTM=0.0475 tol=0.222\n",
      "2024-11-28 11:45:00,767 alphafold2_ptm_model_1_seed_000 recycle=2 pLDDT=79.3 pTM=0.0478 tol=0.227\n",
      "2024-11-28 11:45:00,890 alphafold2_ptm_model_1_seed_000 recycle=3 pLDDT=77.9 pTM=0.0478 tol=0.0917\n",
      "2024-11-28 11:45:00,890 alphafold2_ptm_model_1_seed_000 took 10.5s (3 recycles)\n",
      "2024-11-28 11:45:00,901 reranking models by 'plddt' metric\n",
      "2024-11-28 11:45:00,901 rank_001_alphafold2_ptm_model_1_seed_000 pLDDT=77.9 pTM=0.0478\n",
      "2024-11-28 11:45:01,207 Query 2/5: gene2 (length 10)\n",
      "2024-11-28 11:45:02,343 Padding length to 18\n",
      "2024-11-28 11:45:02,464 alphafold2_ptm_model_1_seed_000 recycle=0 pLDDT=70.6 pTM=0.0425\n",
      "2024-11-28 11:45:02,584 alphafold2_ptm_model_1_seed_000 recycle=1 pLDDT=72 pTM=0.0421 tol=0.58\n",
      "2024-11-28 11:45:02,705 alphafold2_ptm_model_1_seed_000 recycle=2 pLDDT=73.1 pTM=0.0422 tol=0.23\n",
      "2024-11-28 11:45:02,825 alphafold2_ptm_model_1_seed_000 recycle=3 pLDDT=73.6 pTM=0.0422 tol=0.362\n",
      "2024-11-28 11:45:02,826 alphafold2_ptm_model_1_seed_000 took 0.5s (3 recycles)\n",
      "2024-11-28 11:45:02,829 reranking models by 'plddt' metric\n",
      "2024-11-28 11:45:02,829 rank_001_alphafold2_ptm_model_1_seed_000 pLDDT=73.6 pTM=0.0422\n",
      "2024-11-28 11:45:03,130 Query 3/5: gene0 (length 15)\n",
      "2024-11-28 11:45:04,243 Padding length to 18\n",
      "2024-11-28 11:45:04,364 alphafold2_ptm_model_1_seed_000 recycle=0 pLDDT=58.5 pTM=0.0273\n",
      "2024-11-28 11:45:04,485 alphafold2_ptm_model_1_seed_000 recycle=1 pLDDT=59.9 pTM=0.0277 tol=0.537\n",
      "2024-11-28 11:45:04,607 alphafold2_ptm_model_1_seed_000 recycle=2 pLDDT=60 pTM=0.0279 tol=0.424\n",
      "2024-11-28 11:45:04,729 alphafold2_ptm_model_1_seed_000 recycle=3 pLDDT=60.7 pTM=0.0281 tol=0.24\n",
      "2024-11-28 11:45:04,729 alphafold2_ptm_model_1_seed_000 took 0.5s (3 recycles)\n",
      "2024-11-28 11:45:04,733 reranking models by 'plddt' metric\n",
      "2024-11-28 11:45:04,733 rank_001_alphafold2_ptm_model_1_seed_000 pLDDT=60.7 pTM=0.0281\n",
      "2024-11-28 11:45:05,029 Query 4/5: gene3 (length 15)\n",
      "2024-11-28 11:45:06,143 Padding length to 18\n",
      "2024-11-28 11:45:06,264 alphafold2_ptm_model_1_seed_000 recycle=0 pLDDT=65 pTM=0.0275\n",
      "2024-11-28 11:45:06,385 alphafold2_ptm_model_1_seed_000 recycle=1 pLDDT=64.9 pTM=0.0276 tol=2.06\n",
      "2024-11-28 11:45:06,508 alphafold2_ptm_model_1_seed_000 recycle=2 pLDDT=66.9 pTM=0.0277 tol=0.422\n",
      "2024-11-28 11:45:06,629 alphafold2_ptm_model_1_seed_000 recycle=3 pLDDT=67.3 pTM=0.0278 tol=0.435\n",
      "2024-11-28 11:45:06,629 alphafold2_ptm_model_1_seed_000 took 0.5s (3 recycles)\n",
      "2024-11-28 11:45:06,632 reranking models by 'plddt' metric\n",
      "2024-11-28 11:45:06,632 rank_001_alphafold2_ptm_model_1_seed_000 pLDDT=67.3 pTM=0.0278\n",
      "2024-11-28 11:45:06,920 Query 5/5: gene4 (length 18)\n",
      "2024-11-28 11:45:08,190 alphafold2_ptm_model_1_seed_000 recycle=0 pLDDT=59.2 pTM=0.0281\n",
      "2024-11-28 11:45:08,311 alphafold2_ptm_model_1_seed_000 recycle=1 pLDDT=62.6 pTM=0.0282 tol=2.45\n",
      "2024-11-28 11:45:08,432 alphafold2_ptm_model_1_seed_000 recycle=2 pLDDT=81.6 pTM=0.0359 tol=0.825\n",
      "2024-11-28 11:45:08,554 alphafold2_ptm_model_1_seed_000 recycle=3 pLDDT=88.8 pTM=0.0396 tol=0.0719\n",
      "2024-11-28 11:45:08,554 alphafold2_ptm_model_1_seed_000 took 0.5s (3 recycles)\n",
      "2024-11-28 11:45:08,558 reranking models by 'plddt' metric\n",
      "2024-11-28 11:45:08,558 rank_001_alphafold2_ptm_model_1_seed_000 pLDDT=88.8 pTM=0.0396\n",
      "2024-11-28 11:45:08,857 Done\n"
     ]
    }
   ],
   "source": [
    "results = fold('proteins/gen1', 'folds/gen1', colabfold_params)"
   ]
  },
  {
   "cell_type": "code",
   "execution_count": 28,
   "metadata": {},
   "outputs": [],
   "source": [
    "mutation_fitnesses = calculate_fitnesses(results)\n",
    "genes = list(next_gen.keys()) + mutations\n",
    "fitnesses = list(next_gen.values()) + mutation_fitnesses\n",
    "selection = np.random.choice(genes, size=5, replace=False, p=np.divide(fitnesses, sum(fitnesses)))\n",
    "next_gen = {gene: fitness for gene, fitness in zip(genes, fitnesses) if gene in selection}"
   ]
  }
 ],
 "metadata": {
  "kernelspec": {
   "display_name": "Python 3",
   "language": "python",
   "name": "python3"
  },
  "language_info": {
   "codemirror_mode": {
    "name": "ipython",
    "version": 3
   },
   "file_extension": ".py",
   "mimetype": "text/x-python",
   "name": "python",
   "nbconvert_exporter": "python",
   "pygments_lexer": "ipython3",
   "version": "3.10.15"
  }
 },
 "nbformat": 4,
 "nbformat_minor": 2
}
