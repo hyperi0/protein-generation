{
 "cells": [
  {
   "cell_type": "code",
   "execution_count": 18,
   "metadata": {},
   "outputs": [],
   "source": [
    "from Bio.Seq import Seq, MutableSeq\n",
    "from Bio import SeqIO\n",
    "from Bio.SeqRecord import SeqRecord\n",
    "import random\n",
    "import json\n",
    "import os\n",
    "from gene import Gene\n",
    "import sys\n",
    "\n",
    "from colabfold.batch import get_queries, run\n",
    "from colabfold.download import default_data_dir\n",
    "from colabfold.utils import setup_logging\n",
    "from pathlib import Path"
   ]
  },
  {
   "cell_type": "code",
   "execution_count": 2,
   "metadata": {},
   "outputs": [],
   "source": [
    "def save_protein(protein, ident, desc, filename):\n",
    "    record = SeqRecord(protein, id=ident, description=desc)\n",
    "    SeqIO.write(record, filename, 'fasta')"
   ]
  },
  {
   "cell_type": "code",
   "execution_count": 3,
   "metadata": {},
   "outputs": [],
   "source": [
    "generations = []"
   ]
  },
  {
   "cell_type": "code",
   "execution_count": 4,
   "metadata": {},
   "outputs": [
    {
     "name": "stderr",
     "output_type": "stream",
     "text": [
      "/home/ben/code/localcolabfold/colabfold-conda/lib/python3.10/site-packages/Bio/Seq.py:2880: BiopythonWarning: Partial codon, len(sequence) not a multiple of three. Explicitly trim the sequence or add trailing N before translation. This may become an error in future.\n",
      "  warnings.warn(\n"
     ]
    },
    {
     "data": {
      "text/plain": [
       "Seq('TIL')"
      ]
     },
     "execution_count": 4,
     "metadata": {},
     "output_type": "execute_result"
    }
   ],
   "source": [
    "gene = Gene(10)\n",
    "gene.get_protein()"
   ]
  },
  {
   "cell_type": "code",
   "execution_count": 5,
   "metadata": {},
   "outputs": [],
   "source": [
    "def first_generation(n_genes, n_bases, filepath='evolution'):\n",
    "    try:\n",
    "        os.mkdir('evolution/gen0/')\n",
    "    except FileExistsError:\n",
    "        pass\n",
    "    genes = [Gene(n_bases) for _ in range(n_genes)]\n",
    "    for i, gene in enumerate(genes):\n",
    "        ident = f'gen0_gene{i}'\n",
    "        save_protein(gene.get_protein(), ident, str(gene), f'{filepath}/gen0/{ident}.fasta')\n",
    "    return genes"
   ]
  },
  {
   "cell_type": "code",
   "execution_count": 24,
   "metadata": {},
   "outputs": [],
   "source": [
    "colabfold_params = {\n",
    "    'msa_mode': \"single_sequence\", #@param [\"MMseqs2 (UniRef+Environmental)\", \"MMseqs2 (UniRef only)\",\"single_sequence\",\"custom\"]\n",
    "    'num_models': 1, #@param [1,2,3,4,5] {type:\"raw\"}\n",
    "    'num_recycles': 3, #@param [1,3,6,12,24,48] {type:\"raw\"}\n",
    "    'stop_at_score': 100, #@param {type:\"string\"}\n",
    "    'use_custom_msa': False,\n",
    "    'num_relax': 0, #@param [0, 1, 5] {type:\"raw\"}\n",
    "    'use_amber': False,\n",
    "    'relax_max_iterations': 200, #@param [0,200,2000] {type:\"raw\"}\n",
    "    'use_templates': False, #@param {type:\"boolean\"}\n",
    "    'keep_existing_results': True, #@param {type:\"boolean\"}\n",
    "    'zip_results': False, #@param {type:\"boolean\"}\n",
    "    'model_type': \"auto\",\n",
    "    'model_order': [1, 2, 3, 4, 5],\n",
    "    'data_dir': default_data_dir,\n",
    "    'keep_existing_results': True,\n",
    "    'rank_by': \"auto\",\n",
    "    'pair_mode': \"unpaired+paired\",\n",
    "    'user_agent': \"colabfold/google-colab-batch\",\n",
    "}"
   ]
  },
  {
   "cell_type": "code",
   "execution_count": null,
   "metadata": {},
   "outputs": [],
   "source": [
    "# this is from the colabfold jupyter notebook, not using amber so dont need atm\n",
    "# intron irl\n",
    "\n",
    "# For some reason we need that to get pdbfixer to import\n",
    "#if use_amber and f\"/usr/local/lib/python{python_version}/site-packages/\" not in sys.path:\n",
    "#    sys.path.insert(0, f\"/usr/local/lib/python{python_version}/site-packages/\")"
   ]
  },
  {
   "cell_type": "code",
   "execution_count": 26,
   "metadata": {},
   "outputs": [],
   "source": [
    "def fold(input_dir, result_dir, kwargs):\n",
    "    setup_logging(Path(result_dir).joinpath(\"log.txt\"))\n",
    "    kwargs['queries'], kwargs['is_complex'] = get_queries(input_dir)\n",
    "    kwargs['input_dir'], kwargs['result_dir'] = input_dir, result_dir\n",
    "    results = run(**kwargs)\n",
    "    return results"
   ]
  },
  {
   "cell_type": "code",
   "execution_count": null,
   "metadata": {},
   "outputs": [
    {
     "name": "stdout",
     "output_type": "stream",
     "text": [
      "2024-11-28 08:30:49,054 Running on GPU\n",
      "WARNING: the following options are not being used: {'use_custom_msa': False, 'input_dir': 'evolution/gen0'}\n",
      "2024-11-28 08:30:49,062 Found 2 citations for tools or databases\n",
      "2024-11-28 08:30:49,063 Query 1/10: gen0_gene7 (length 2)\n",
      "2024-11-28 08:30:52,975 Padding length to 3\n",
      "2024-11-28 08:30:59,128 alphafold2_ptm_model_1_seed_000 recycle=0 pLDDT=19.7 pTM=0.00149\n",
      "2024-11-28 08:30:59,188 alphafold2_ptm_model_1_seed_000 recycle=1 pLDDT=28.8 pTM=0.000749 tol=31.5\n",
      "2024-11-28 08:30:59,249 alphafold2_ptm_model_1_seed_000 recycle=2 pLDDT=46.7 pTM=0.00176 tol=4.7\n",
      "2024-11-28 08:30:59,302 alphafold2_ptm_model_1_seed_000 recycle=3 pLDDT=50.4 pTM=0.00188 tol=22.5\n",
      "2024-11-28 08:30:59,302 alphafold2_ptm_model_1_seed_000 took 6.3s (3 recycles)\n",
      "2024-11-28 08:30:59,304 reranking models by 'plddt' metric\n",
      "2024-11-28 08:30:59,304 rank_001_alphafold2_ptm_model_1_seed_000 pLDDT=50.4 pTM=0.00188\n",
      "2024-11-28 08:30:59,614 Query 2/10: gen0_gene0 (length 3)\n",
      "2024-11-28 08:31:00,794 alphafold2_ptm_model_1_seed_000 recycle=0 pLDDT=72.9 pTM=0.117\n",
      "2024-11-28 08:31:00,845 alphafold2_ptm_model_1_seed_000 recycle=1 pLDDT=44.5 pTM=0.000902 tol=11.1\n",
      "2024-11-28 08:31:00,896 alphafold2_ptm_model_1_seed_000 recycle=2 pLDDT=37.9 pTM=0.000394 tol=12.5\n",
      "2024-11-28 08:31:00,947 alphafold2_ptm_model_1_seed_000 recycle=3 pLDDT=32.8 pTM=0.00031 tol=9.06\n",
      "2024-11-28 08:31:00,947 alphafold2_ptm_model_1_seed_000 took 0.2s (3 recycles)\n",
      "2024-11-28 08:31:00,949 reranking models by 'plddt' metric\n",
      "2024-11-28 08:31:00,949 rank_001_alphafold2_ptm_model_1_seed_000 pLDDT=32.8 pTM=0.00031\n",
      "2024-11-28 08:31:01,271 Query 3/10: gen0_gene1 (length 3)\n",
      "2024-11-28 08:31:02,415 alphafold2_ptm_model_1_seed_000 recycle=0 pLDDT=69.2 pTM=0.113\n",
      "2024-11-28 08:31:02,465 alphafold2_ptm_model_1_seed_000 recycle=1 pLDDT=38.8 pTM=0.0412 tol=6.03\n",
      "2024-11-28 08:31:02,515 alphafold2_ptm_model_1_seed_000 recycle=2 pLDDT=29.6 pTM=0.000803 tol=22.4\n",
      "2024-11-28 08:31:02,566 alphafold2_ptm_model_1_seed_000 recycle=3 pLDDT=52 pTM=0.000521 tol=3.3\n",
      "2024-11-28 08:31:02,567 alphafold2_ptm_model_1_seed_000 took 0.2s (3 recycles)\n",
      "2024-11-28 08:31:02,568 reranking models by 'plddt' metric\n",
      "2024-11-28 08:31:02,569 rank_001_alphafold2_ptm_model_1_seed_000 pLDDT=52 pTM=0.000521\n",
      "2024-11-28 08:31:02,884 Query 4/10: gen0_gene2 (length 3)\n",
      "2024-11-28 08:31:04,036 alphafold2_ptm_model_1_seed_000 recycle=0 pLDDT=64.2 pTM=0.107\n",
      "2024-11-28 08:31:04,087 alphafold2_ptm_model_1_seed_000 recycle=1 pLDDT=17.8 pTM=0.000213 tol=18.6\n",
      "2024-11-28 08:31:04,137 alphafold2_ptm_model_1_seed_000 recycle=2 pLDDT=35.2 pTM=0.000218 tol=34.3\n",
      "2024-11-28 08:31:04,188 alphafold2_ptm_model_1_seed_000 recycle=3 pLDDT=41 pTM=0.000285 tol=28\n",
      "2024-11-28 08:31:04,189 alphafold2_ptm_model_1_seed_000 took 0.2s (3 recycles)\n",
      "2024-11-28 08:31:04,191 reranking models by 'plddt' metric\n",
      "2024-11-28 08:31:04,191 rank_001_alphafold2_ptm_model_1_seed_000 pLDDT=41 pTM=0.000285\n",
      "2024-11-28 08:31:04,511 Query 5/10: gen0_gene3 (length 3)\n",
      "2024-11-28 08:31:05,651 alphafold2_ptm_model_1_seed_000 recycle=0 pLDDT=72.1 pTM=0.112\n",
      "2024-11-28 08:31:05,701 alphafold2_ptm_model_1_seed_000 recycle=1 pLDDT=42.8 pTM=0.000214 tol=34.4\n",
      "2024-11-28 08:31:05,752 alphafold2_ptm_model_1_seed_000 recycle=2 pLDDT=28.1 pTM=0.000237 tol=20.6\n",
      "2024-11-28 08:31:05,802 alphafold2_ptm_model_1_seed_000 recycle=3 pLDDT=45.7 pTM=0.000511 tol=49.1\n",
      "2024-11-28 08:31:05,803 alphafold2_ptm_model_1_seed_000 took 0.2s (3 recycles)\n",
      "2024-11-28 08:31:05,804 reranking models by 'plddt' metric\n",
      "2024-11-28 08:31:05,804 rank_001_alphafold2_ptm_model_1_seed_000 pLDDT=45.7 pTM=0.000511\n",
      "2024-11-28 08:31:06,135 Query 6/10: gen0_gene4 (length 3)\n",
      "2024-11-28 08:31:07,667 alphafold2_ptm_model_1_seed_000 recycle=0 pLDDT=76.2 pTM=0.115\n",
      "2024-11-28 08:31:07,725 alphafold2_ptm_model_1_seed_000 recycle=1 pLDDT=19.3 pTM=0.00111 tol=5.56\n",
      "2024-11-28 08:31:07,785 alphafold2_ptm_model_1_seed_000 recycle=2 pLDDT=35.5 pTM=0.00215 tol=17.4\n",
      "2024-11-28 08:31:07,846 alphafold2_ptm_model_1_seed_000 recycle=3 pLDDT=39.7 pTM=0.00208 tol=10.8\n",
      "2024-11-28 08:31:07,846 alphafold2_ptm_model_1_seed_000 took 0.2s (3 recycles)\n",
      "2024-11-28 08:31:07,848 reranking models by 'plddt' metric\n",
      "2024-11-28 08:31:07,848 rank_001_alphafold2_ptm_model_1_seed_000 pLDDT=39.7 pTM=0.00208\n",
      "2024-11-28 08:31:08,175 Query 7/10: gen0_gene5 (length 3)\n",
      "2024-11-28 08:31:09,370 alphafold2_ptm_model_1_seed_000 recycle=0 pLDDT=70.1 pTM=0.114\n",
      "2024-11-28 08:31:09,421 alphafold2_ptm_model_1_seed_000 recycle=1 pLDDT=44.8 pTM=0.0806 tol=2.09\n",
      "2024-11-28 08:31:09,472 alphafold2_ptm_model_1_seed_000 recycle=2 pLDDT=38.4 pTM=0.00149 tol=24\n",
      "2024-11-28 08:31:09,524 alphafold2_ptm_model_1_seed_000 recycle=3 pLDDT=43.6 pTM=0.000551 tol=41.3\n",
      "2024-11-28 08:31:09,524 alphafold2_ptm_model_1_seed_000 took 0.2s (3 recycles)\n",
      "2024-11-28 08:31:09,526 reranking models by 'plddt' metric\n",
      "2024-11-28 08:31:09,526 rank_001_alphafold2_ptm_model_1_seed_000 pLDDT=43.6 pTM=0.000551\n",
      "2024-11-28 08:31:09,846 Query 8/10: gen0_gene6 (length 3)\n",
      "2024-11-28 08:31:11,020 alphafold2_ptm_model_1_seed_000 recycle=0 pLDDT=65.1 pTM=0.118\n",
      "2024-11-28 08:31:11,070 alphafold2_ptm_model_1_seed_000 recycle=1 pLDDT=32.3 pTM=0.00186 tol=10.4\n",
      "2024-11-28 08:31:11,121 alphafold2_ptm_model_1_seed_000 recycle=2 pLDDT=23.9 pTM=0.00228 tol=7.79\n",
      "2024-11-28 08:31:11,172 alphafold2_ptm_model_1_seed_000 recycle=3 pLDDT=41.8 pTM=0.000865 tol=29.4\n",
      "2024-11-28 08:31:11,172 alphafold2_ptm_model_1_seed_000 took 0.2s (3 recycles)\n",
      "2024-11-28 08:31:11,174 reranking models by 'plddt' metric\n",
      "2024-11-28 08:31:11,174 rank_001_alphafold2_ptm_model_1_seed_000 pLDDT=41.8 pTM=0.000865\n",
      "2024-11-28 08:31:11,491 Query 9/10: gen0_gene8 (length 3)\n",
      "2024-11-28 08:31:12,691 alphafold2_ptm_model_1_seed_000 recycle=0 pLDDT=65.4 pTM=0.0903\n",
      "2024-11-28 08:31:12,741 alphafold2_ptm_model_1_seed_000 recycle=1 pLDDT=40.5 pTM=0.00121 tol=13\n",
      "2024-11-28 08:31:12,791 alphafold2_ptm_model_1_seed_000 recycle=2 pLDDT=27.7 pTM=0.000844 tol=13.4\n",
      "2024-11-28 08:31:12,842 alphafold2_ptm_model_1_seed_000 recycle=3 pLDDT=26.9 pTM=0.000711 tol=10.1\n",
      "2024-11-28 08:31:12,842 alphafold2_ptm_model_1_seed_000 took 0.2s (3 recycles)\n",
      "2024-11-28 08:31:12,844 reranking models by 'plddt' metric\n",
      "2024-11-28 08:31:12,844 rank_001_alphafold2_ptm_model_1_seed_000 pLDDT=26.9 pTM=0.000711\n",
      "2024-11-28 08:31:13,180 Query 10/10: gen0_gene9 (length 3)\n",
      "2024-11-28 08:31:14,370 alphafold2_ptm_model_1_seed_000 recycle=0 pLDDT=57.8 pTM=0.112\n",
      "2024-11-28 08:31:14,420 alphafold2_ptm_model_1_seed_000 recycle=1 pLDDT=30.9 pTM=0.000233 tol=19.7\n",
      "2024-11-28 08:31:14,471 alphafold2_ptm_model_1_seed_000 recycle=2 pLDDT=23.9 pTM=0.000396 tol=9.73\n",
      "2024-11-28 08:31:14,521 alphafold2_ptm_model_1_seed_000 recycle=3 pLDDT=31 pTM=0.000405 tol=23.7\n",
      "2024-11-28 08:31:14,522 alphafold2_ptm_model_1_seed_000 took 0.2s (3 recycles)\n",
      "2024-11-28 08:31:14,524 reranking models by 'plddt' metric\n",
      "2024-11-28 08:31:14,524 rank_001_alphafold2_ptm_model_1_seed_000 pLDDT=31 pTM=0.000405\n",
      "2024-11-28 08:31:14,850 Done\n",
      "{'rank': [['rank_001_alphafold2_ptm_model_1_seed_000'], ['rank_001_alphafold2_ptm_model_1_seed_000'], ['rank_001_alphafold2_ptm_model_1_seed_000'], ['rank_001_alphafold2_ptm_model_1_seed_000'], ['rank_001_alphafold2_ptm_model_1_seed_000'], ['rank_001_alphafold2_ptm_model_1_seed_000'], ['rank_001_alphafold2_ptm_model_1_seed_000'], ['rank_001_alphafold2_ptm_model_1_seed_000'], ['rank_001_alphafold2_ptm_model_1_seed_000'], ['rank_001_alphafold2_ptm_model_1_seed_000']], 'metric': [[{'mean_plddt': 50.375, 'ptm': 0.0018825531005859375, 'print_line': ' pLDDT=50.4 pTM=0.00188'}], [{'mean_plddt': 32.75, 'ptm': 0.0003104209899902344, 'print_line': ' pLDDT=32.8 pTM=0.00031'}], [{'mean_plddt': 52.03125, 'ptm': 0.0005211830139160156, 'print_line': ' pLDDT=52 pTM=0.000521'}], [{'mean_plddt': 41.03125, 'ptm': 0.0002853870391845703, 'print_line': ' pLDDT=41 pTM=0.000285'}], [{'mean_plddt': 45.71875, 'ptm': 0.00051116943359375, 'print_line': ' pLDDT=45.7 pTM=0.000511'}], [{'mean_plddt': 39.65625, 'ptm': 0.00208282470703125, 'print_line': ' pLDDT=39.7 pTM=0.00208'}], [{'mean_plddt': 43.59375, 'ptm': 0.0005512237548828125, 'print_line': ' pLDDT=43.6 pTM=0.000551'}], [{'mean_plddt': 41.84375, 'ptm': 0.0008654594421386719, 'print_line': ' pLDDT=41.8 pTM=0.000865'}], [{'mean_plddt': 26.890625, 'ptm': 0.0007109642028808594, 'print_line': ' pLDDT=26.9 pTM=0.000711'}], [{'mean_plddt': 31.046875, 'ptm': 0.00040459632873535156, 'print_line': ' pLDDT=31 pTM=0.000405'}]]}\n"
     ]
    }
   ],
   "source": [
    "results = fold('evolution/gen0', 'folds', colabfold_params)"
   ]
  },
  {
   "cell_type": "code",
   "execution_count": 32,
   "metadata": {},
   "outputs": [],
   "source": [
    "def calculate_fitnesses(results):\n",
    "    fitnesses = 0\n",
    "    for metric in results['metric']:\n",
    "        mean_plddt, ptm = metric[0]['mean_plddt'], metric[0]['ptm']\n",
    "        fitness = (mean_plddt / 100) * 0.5 + ptm * 0.5\n",
    "        fitnesses.append(fitness)\n",
    "    return fitnesses"
   ]
  },
  {
   "cell_type": "code",
   "execution_count": 33,
   "metadata": {},
   "outputs": [],
   "source": [
    "def select(genes, fitnesses, n, method='weak'):\n",
    "    if method == 'weak':\n",
    "        return random.choices(genes, weights=fitnesses, k=n)\n",
    "    else:\n",
    "        print('not implemented hehe :3')\n",
    "        return None"
   ]
  },
  {
   "cell_type": "code",
   "execution_count": null,
   "metadata": {},
   "outputs": [],
   "source": []
  },
  {
   "cell_type": "markdown",
   "metadata": {},
   "source": [
    "## End goals\n",
    "* List of mutated genes along with their predicted folds\n",
    "    * Fasta file with associated pdb file\n",
    "* Metadata with gene seq : [protein fasta file, folded pdb file, fitness, generation, parent(s)]"
   ]
  }
 ],
 "metadata": {
  "kernelspec": {
   "display_name": "Python 3",
   "language": "python",
   "name": "python3"
  },
  "language_info": {
   "codemirror_mode": {
    "name": "ipython",
    "version": 3
   },
   "file_extension": ".py",
   "mimetype": "text/x-python",
   "name": "python",
   "nbconvert_exporter": "python",
   "pygments_lexer": "ipython3",
   "version": "3.10.15"
  }
 },
 "nbformat": 4,
 "nbformat_minor": 2
}
