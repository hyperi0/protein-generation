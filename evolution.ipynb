{
 "cells": [
  {
   "cell_type": "code",
   "execution_count": 1,
   "metadata": {},
   "outputs": [],
   "source": [
    "from Bio.Seq import Seq, MutableSeq\n",
    "from Bio import SeqIO\n",
    "from Bio.SeqRecord import SeqRecord\n",
    "import random"
   ]
  },
  {
   "cell_type": "code",
   "execution_count": 94,
   "metadata": {},
   "outputs": [],
   "source": [
    "def generate_gene(length):\n",
    "    bases = ('A', 'T', 'C', 'G')\n",
    "    gene = ''.join([random.choice(bases) for _ in range(length)])\n",
    "    return Seq(gene)"
   ]
  },
  {
   "cell_type": "code",
   "execution_count": 59,
   "metadata": {},
   "outputs": [],
   "source": [
    "def point_insertion(gene):\n",
    "    new_gene = MutableSeq(gene)\n",
    "    new_base = random.choice(('A', 'T', 'C', 'G'))\n",
    "    new_pos = random.randint(0, len(gene))\n",
    "    new_gene.insert(new_pos, new_base)\n",
    "    return Seq(new_gene)"
   ]
  },
  {
   "cell_type": "code",
   "execution_count": 103,
   "metadata": {},
   "outputs": [],
   "source": [
    "def point_deletion(gene):\n",
    "    if len(gene) <= 1:\n",
    "        return gene\n",
    "    new_gene = MutableSeq(gene)\n",
    "    pos = random.randint(0, len(gene)-1)\n",
    "    new_gene = new_gene[:pos] + new_gene[pos+1:]\n",
    "    return Seq(new_gene)"
   ]
  },
  {
   "cell_type": "code",
   "execution_count": 61,
   "metadata": {},
   "outputs": [],
   "source": [
    "def point_mutation(gene):\n",
    "    new_gene = MutableSeq(gene)\n",
    "    pos = random.randint(0, len(gene)-1)\n",
    "    old_base = gene[pos]\n",
    "    base_choices = ['A', 'T', 'C', 'G']     \n",
    "    base_choices.remove(old_base)\n",
    "    new_base = random.choice(base_choices)\n",
    "    new_gene[pos] = new_base\n",
    "    return Seq(new_gene)"
   ]
  },
  {
   "cell_type": "code",
   "execution_count": 125,
   "metadata": {},
   "outputs": [],
   "source": [
    "def partial_deletion(gene):\n",
    "    new_gene = MutableSeq(gene)\n",
    "    start = random.randint(0, len(gene)-1)\n",
    "    end = random.randint(start+1, len(gene))\n",
    "    new_gene = new_gene[start:end]\n",
    "    return Seq(new_gene)"
   ]
  },
  {
   "cell_type": "code",
   "execution_count": 223,
   "metadata": {},
   "outputs": [],
   "source": [
    "def random_insertion(gene):\n",
    "    new_gene = MutableSeq(gene)\n",
    "    pos = random.randint(0, len(gene))\n",
    "    seq_len = random.randint(1, len(gene))\n",
    "    new_seq = generate_gene(seq_len)\n",
    "    new_gene = new_gene[:pos] + new_seq + new_gene[pos:]\n",
    "    return Seq(new_gene)"
   ]
  },
  {
   "cell_type": "code",
   "execution_count": 182,
   "metadata": {},
   "outputs": [],
   "source": [
    "def partial_duplication(gene):\n",
    "    new_gene = MutableSeq(gene)\n",
    "    pos = random.randint(0, len(gene)-1)\n",
    "    seq_len = random.randint(1, len(gene))\n",
    "    new_seq = new_gene[pos:pos+seq_len]\n",
    "    new_gene = new_gene[:pos] + new_seq + new_gene[pos:]\n",
    "    return Seq(new_gene)"
   ]
  },
  {
   "cell_type": "code",
   "execution_count": 206,
   "metadata": {},
   "outputs": [],
   "source": [
    "def circular_permutation(gene):\n",
    "    new_gene = MutableSeq(gene)\n",
    "    pos = random.randint(1, len(gene)-1)\n",
    "    new_gene = new_gene[pos:] + new_gene[:pos]\n",
    "    return Seq(new_gene)"
   ]
  },
  {
   "cell_type": "code",
   "execution_count": 66,
   "metadata": {},
   "outputs": [],
   "source": [
    "def full_duplication(gene):\n",
    "    new_gene = MutableSeq(gene)\n",
    "    new_gene = new_gene + new_gene\n",
    "    return Seq(new_gene)"
   ]
  },
  {
   "cell_type": "code",
   "execution_count": 67,
   "metadata": {},
   "outputs": [],
   "source": [
    "def to_stop(gene):\n",
    "    new_gene = MutableSeq(gene)\n",
    "    stop_pos = new_gene.find('*')\n",
    "    if stop_pos != -1:\n",
    "        new_gene = new_gene[:stop_pos]\n",
    "    return Seq(new_gene)"
   ]
  },
  {
   "cell_type": "code",
   "execution_count": 224,
   "metadata": {},
   "outputs": [],
   "source": [
    "all_mutations = [\n",
    "    point_insertion,\n",
    "    point_deletion,\n",
    "    point_mutation,\n",
    "    partial_deletion,\n",
    "    random_insertion,\n",
    "    partial_duplication,\n",
    "    circular_permutation,\n",
    "    full_duplication,\n",
    "]"
   ]
  },
  {
   "cell_type": "code",
   "execution_count": 239,
   "metadata": {},
   "outputs": [],
   "source": [
    "new_genes = {}\n",
    "for mutation in all_mutations:\n",
    "    new_genes[mutation.__name__] = [mutation(gene) for _ in range(10)]"
   ]
  },
  {
   "cell_type": "code",
   "execution_count": null,
   "metadata": {},
   "outputs": [],
   "source": [
    "new_gene = point_mutate(gene)\n",
    "protein = gene.translate(stop_symbol=\"\")\n",
    "new_protein = new_gene.translate(stop_symbol=\"\")\n",
    "[i for i in range(len(protein)) if protein[i] != new_protein[i]]"
   ]
  },
  {
   "cell_type": "code",
   "execution_count": null,
   "metadata": {},
   "outputs": [
    {
     "data": {
      "text/plain": [
       "1"
      ]
     },
     "metadata": {},
     "output_type": "display_data"
    }
   ],
   "source": [
    "orig_record = SeqRecord(\n",
    "    protein,\n",
    "    id='original_lacz_protein',\n",
    "    description='original lacz protein',\n",
    ")\n",
    "\n",
    "mutated_record = SeqRecord(\n",
    "    new_protein,\n",
    "    id='mutated_lacz_protein',\n",
    "    description='mutated lacz protein',\n",
    ")\n",
    "\n",
    "SeqIO.write(orig_record, 'data/original_lacz_protein.fasta', 'fasta')\n",
    "SeqIO.write(mutated_record, 'data/mutated_lacz_protein.fasta', 'fasta')"
   ]
  },
  {
   "cell_type": "code",
   "execution_count": null,
   "metadata": {},
   "outputs": [],
   "source": [
    "input_dir = 'data' #@param {type:\"string\"}\n",
    "result_dir = 'output' #@param {type:\"string\"}\n",
    "\n",
    "# number of models to use\n",
    "#@markdown ---\n",
    "#@markdown ### Advanced settings\n",
    "msa_mode = \"single_sequence\" #@param [\"MMseqs2 (UniRef+Environmental)\", \"MMseqs2 (UniRef only)\",\"single_sequence\",\"custom\"]\n",
    "num_models = 1 #@param [1,2,3,4,5] {type:\"raw\"}\n",
    "num_recycles = 3 #@param [1,3,6,12,24,48] {type:\"raw\"}\n",
    "stop_at_score = 100 #@param {type:\"string\"}\n",
    "#@markdown - early stop computing models once score > threshold (avg. plddt for \"structures\" and ptmscore for \"complexes\")\n",
    "use_custom_msa = False\n",
    "num_relax = 0 #@param [0, 1, 5] {type:\"raw\"}\n",
    "use_amber = num_relax > 0\n",
    "relax_max_iterations = 200 #@param [0,200,2000] {type:\"raw\"}\n",
    "use_templates = False #@param {type:\"boolean\"}\n",
    "do_not_overwrite_results = True #@param {type:\"boolean\"}\n",
    "zip_results = False #@param {type:\"boolean\"}\n"
   ]
  },
  {
   "cell_type": "code",
   "execution_count": null,
   "metadata": {},
   "outputs": [],
   "source": [
    "import sys\n",
    "\n",
    "from colabfold.batch import get_queries, run\n",
    "from colabfold.download import default_data_dir\n",
    "from colabfold.utils import setup_logging\n",
    "from pathlib import Path\n",
    "\n",
    "# For some reason we need that to get pdbfixer to import\n",
    "if use_amber and f\"/usr/local/lib/python{python_version}/site-packages/\" not in sys.path:\n",
    "    sys.path.insert(0, f\"/usr/local/lib/python{python_version}/site-packages/\")\n",
    "\n",
    "setup_logging(Path(result_dir).joinpath(\"log.txt\"))"
   ]
  },
  {
   "cell_type": "code",
   "execution_count": null,
   "metadata": {},
   "outputs": [],
   "source": [
    "queries, is_complex = get_queries(input_dir)\n",
    "run(\n",
    "    queries=queries,\n",
    "    result_dir=result_dir,\n",
    "    use_templates=use_templates,\n",
    "    num_relax=num_relax,\n",
    "    relax_max_iterations=relax_max_iterations,\n",
    "    msa_mode=msa_mode,\n",
    "    model_type=\"auto\",\n",
    "    num_models=num_models,\n",
    "    num_recycles=num_recycles,\n",
    "    model_order=[1, 2, 3, 4, 5],\n",
    "    is_complex=is_complex,\n",
    "    data_dir=default_data_dir,\n",
    "    keep_existing_results=do_not_overwrite_results,\n",
    "    rank_by=\"auto\",\n",
    "    pair_mode=\"unpaired+paired\",\n",
    "    stop_at_score=stop_at_score,\n",
    "    zip_results=zip_results,\n",
    "    user_agent=\"colabfold/google-colab-batch\",\n",
    ")"
   ]
  }
 ],
 "metadata": {
  "kernelspec": {
   "display_name": "Python 3",
   "language": "python",
   "name": "python3"
  },
  "language_info": {
   "codemirror_mode": {
    "name": "ipython",
    "version": 3
   },
   "file_extension": ".py",
   "mimetype": "text/x-python",
   "name": "python",
   "nbconvert_exporter": "python",
   "pygments_lexer": "ipython3",
   "version": "3.10.15"
  }
 },
 "nbformat": 4,
 "nbformat_minor": 2
}
