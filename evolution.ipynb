{
 "cells": [
  {
   "cell_type": "code",
   "execution_count": 57,
   "metadata": {},
   "outputs": [],
   "source": [
    "from Bio.Seq import Seq, MutableSeq\n",
    "from Bio import SeqIO\n",
    "from Bio.SeqRecord import SeqRecord\n",
    "import random\n",
    "import json\n",
    "import os"
   ]
  },
  {
   "cell_type": "code",
   "execution_count": 3,
   "metadata": {},
   "outputs": [],
   "source": [
    "def generate_gene(length):\n",
    "    bases = ('A', 'T', 'C', 'G')\n",
    "    gene = ''.join([random.choice(bases) for _ in range(length)])\n",
    "    return Seq(gene)"
   ]
  },
  {
   "cell_type": "code",
   "execution_count": 4,
   "metadata": {},
   "outputs": [],
   "source": [
    "def point_insertion(gene):\n",
    "    new_gene = MutableSeq(gene)\n",
    "    new_base = random.choice(('A', 'T', 'C', 'G'))\n",
    "    new_pos = random.randint(0, len(gene))\n",
    "    new_gene.insert(new_pos, new_base)\n",
    "    return Seq(new_gene)"
   ]
  },
  {
   "cell_type": "code",
   "execution_count": 5,
   "metadata": {},
   "outputs": [],
   "source": [
    "def point_deletion(gene):\n",
    "    if len(gene) <= 1:\n",
    "        return gene\n",
    "    new_gene = MutableSeq(gene)\n",
    "    pos = random.randint(0, len(gene)-1)\n",
    "    new_gene = new_gene[:pos] + new_gene[pos+1:]\n",
    "    return Seq(new_gene)"
   ]
  },
  {
   "cell_type": "code",
   "execution_count": 6,
   "metadata": {},
   "outputs": [],
   "source": [
    "def point_mutation(gene):\n",
    "    new_gene = MutableSeq(gene)\n",
    "    pos = random.randint(0, len(gene)-1)\n",
    "    old_base = gene[pos]\n",
    "    base_choices = ['A', 'T', 'C', 'G']     \n",
    "    base_choices.remove(old_base)\n",
    "    new_base = random.choice(base_choices)\n",
    "    new_gene[pos] = new_base\n",
    "    return Seq(new_gene)"
   ]
  },
  {
   "cell_type": "code",
   "execution_count": 7,
   "metadata": {},
   "outputs": [],
   "source": [
    "def partial_deletion(gene):\n",
    "    if len(gene) <=1 :\n",
    "        return gene\n",
    "    new_gene = MutableSeq(gene)\n",
    "    start = random.randint(0, len(gene)-1)\n",
    "    end = random.randint(start+1, len(gene))\n",
    "    new_gene = new_gene[start:end]\n",
    "    return Seq(new_gene)"
   ]
  },
  {
   "cell_type": "code",
   "execution_count": 8,
   "metadata": {},
   "outputs": [],
   "source": [
    "def random_insertion(gene):\n",
    "    new_gene = MutableSeq(gene)\n",
    "    pos = random.randint(0, len(gene))\n",
    "    seq_len = random.randint(1, len(gene))\n",
    "    new_seq = generate_gene(seq_len)\n",
    "    new_gene = new_gene[:pos] + new_seq + new_gene[pos:]\n",
    "    return Seq(new_gene)"
   ]
  },
  {
   "cell_type": "code",
   "execution_count": 9,
   "metadata": {},
   "outputs": [],
   "source": [
    "def partial_duplication(gene):\n",
    "    new_gene = MutableSeq(gene)\n",
    "    pos = random.randint(0, len(gene)-1)\n",
    "    seq_len = random.randint(1, len(gene))\n",
    "    new_seq = new_gene[pos:pos+seq_len]\n",
    "    new_gene = new_gene[:pos] + new_seq + new_gene[pos:]\n",
    "    return Seq(new_gene)"
   ]
  },
  {
   "cell_type": "code",
   "execution_count": 10,
   "metadata": {},
   "outputs": [],
   "source": [
    "def circular_permutation(gene):\n",
    "    new_gene = MutableSeq(gene)\n",
    "    pos = random.randint(1, len(gene)-1)\n",
    "    new_gene = new_gene[pos:] + new_gene[:pos]\n",
    "    return Seq(new_gene)"
   ]
  },
  {
   "cell_type": "code",
   "execution_count": 11,
   "metadata": {},
   "outputs": [],
   "source": [
    "def full_duplication(gene):\n",
    "    new_gene = MutableSeq(gene)\n",
    "    new_gene = new_gene + new_gene\n",
    "    return Seq(new_gene)"
   ]
  },
  {
   "cell_type": "code",
   "execution_count": 12,
   "metadata": {},
   "outputs": [],
   "source": [
    "def to_stop(gene):\n",
    "    new_gene = MutableSeq(gene)\n",
    "    stop_pos = new_gene.find('*')\n",
    "    if stop_pos != -1:\n",
    "        new_gene = new_gene[:stop_pos]\n",
    "    return Seq(new_gene)"
   ]
  },
  {
   "cell_type": "code",
   "execution_count": 29,
   "metadata": {},
   "outputs": [],
   "source": [
    "all_mutations = [\n",
    "    point_insertion,\n",
    "    point_deletion,\n",
    "    point_mutation,\n",
    "    partial_deletion,\n",
    "    random_insertion,\n",
    "    partial_duplication,\n",
    "    circular_permutation,\n",
    "    full_duplication,\n",
    "]"
   ]
  },
  {
   "cell_type": "code",
   "execution_count": 30,
   "metadata": {},
   "outputs": [],
   "source": [
    "gene = generate_gene(10)"
   ]
  },
  {
   "cell_type": "code",
   "execution_count": 31,
   "metadata": {},
   "outputs": [],
   "source": [
    "new_genes = {}\n",
    "for mutation in all_mutations:\n",
    "    #new_genes[mutation.__name__] = [mutation(gene) for _ in range(10)]\n",
    "    new_genes[mutation.__name__] = mutation(gene)"
   ]
  },
  {
   "cell_type": "code",
   "execution_count": 32,
   "metadata": {},
   "outputs": [
    {
     "data": {
      "text/plain": [
       "{'point_insertion': Seq('CCTGCGTTCCC'),\n",
       " 'point_deletion': Seq('CCTGCTTCC'),\n",
       " 'point_mutation': Seq('CCTGCGTTCG'),\n",
       " 'partial_deletion': Seq('TTCC'),\n",
       " 'random_insertion': Seq('CCTGCGCTTAATTTGTTCC'),\n",
       " 'partial_duplication': Seq('CCTGCGTTGCGTTCC'),\n",
       " 'circular_permutation': Seq('CCCCTGCGTT'),\n",
       " 'full_duplication': Seq('CCTGCGTTCCCCTGCGTTCC')}"
      ]
     },
     "execution_count": 32,
     "metadata": {},
     "output_type": "execute_result"
    }
   ],
   "source": [
    "new_genes"
   ]
  },
  {
   "cell_type": "code",
   "execution_count": 33,
   "metadata": {},
   "outputs": [],
   "source": [
    "def save_protein(protein, ident, desc, filename):\n",
    "    record = SeqRecord(protein, id=ident, description=desc)\n",
    "    SeqIO.write(record, filename, 'fasta')"
   ]
  },
  {
   "cell_type": "code",
   "execution_count": 35,
   "metadata": {},
   "outputs": [],
   "source": [
    "for mutation, gene in new_genes.items():\n",
    "    protein = gene.translate(stop_symbol=\"\")\n",
    "    save_protein(protein, mutation, 'gen 1', f'mutations/{mutation}.fasta')"
   ]
  },
  {
   "cell_type": "code",
   "execution_count": 36,
   "metadata": {},
   "outputs": [],
   "source": [
    "input_dir = 'data' #@param {type:\"string\"}\n",
    "result_dir = 'output' #@param {type:\"string\"}\n",
    "\n",
    "# number of models to use\n",
    "#@markdown ---\n",
    "#@markdown ### Advanced settings\n",
    "msa_mode = \"single_sequence\" #@param [\"MMseqs2 (UniRef+Environmental)\", \"MMseqs2 (UniRef only)\",\"single_sequence\",\"custom\"]\n",
    "num_models = 1 #@param [1,2,3,4,5] {type:\"raw\"}\n",
    "num_recycles = 3 #@param [1,3,6,12,24,48] {type:\"raw\"}\n",
    "stop_at_score = 100 #@param {type:\"string\"}\n",
    "#@markdown - early stop computing models once score > threshold (avg. plddt for \"structures\" and ptmscore for \"complexes\")\n",
    "use_custom_msa = False\n",
    "num_relax = 0 #@param [0, 1, 5] {type:\"raw\"}\n",
    "use_amber = num_relax > 0\n",
    "relax_max_iterations = 200 #@param [0,200,2000] {type:\"raw\"}\n",
    "use_templates = False #@param {type:\"boolean\"}\n",
    "do_not_overwrite_results = True #@param {type:\"boolean\"}\n",
    "zip_results = False #@param {type:\"boolean\"}"
   ]
  },
  {
   "cell_type": "code",
   "execution_count": 37,
   "metadata": {},
   "outputs": [],
   "source": [
    "import sys\n",
    "\n",
    "from colabfold.batch import get_queries, run\n",
    "from colabfold.download import default_data_dir\n",
    "from colabfold.utils import setup_logging\n",
    "from pathlib import Path\n",
    "\n",
    "# For some reason we need that to get pdbfixer to import\n",
    "if use_amber and f\"/usr/local/lib/python{python_version}/site-packages/\" not in sys.path:\n",
    "    sys.path.insert(0, f\"/usr/local/lib/python{python_version}/site-packages/\")\n",
    "\n",
    "setup_logging(Path(result_dir).joinpath(\"log.txt\"))"
   ]
  },
  {
   "cell_type": "code",
   "execution_count": 61,
   "metadata": {},
   "outputs": [],
   "source": [
    "def fold(input_dir, result_dir):\n",
    "    queries, is_complex = get_queries(input_dir)\n",
    "    results = run(\n",
    "        queries=queries,\n",
    "        result_dir=result_dir,\n",
    "        use_templates=use_templates,\n",
    "        num_relax=num_relax,\n",
    "        relax_max_iterations=relax_max_iterations,\n",
    "        msa_mode=msa_mode,\n",
    "        model_type=\"auto\",\n",
    "        num_models=num_models,\n",
    "        num_recycles=num_recycles,\n",
    "        model_order=[1, 2, 3, 4, 5],\n",
    "        is_complex=is_complex,\n",
    "        data_dir=default_data_dir,\n",
    "        keep_existing_results=do_not_overwrite_results,\n",
    "        rank_by=\"auto\",\n",
    "        pair_mode=\"unpaired+paired\",\n",
    "        stop_at_score=stop_at_score,\n",
    "        zip_results=zip_results,\n",
    "        user_agent=\"colabfold/google-colab-batch\",\n",
    "    )\n",
    "    return results"
   ]
  },
  {
   "cell_type": "code",
   "execution_count": 62,
   "metadata": {},
   "outputs": [
    {
     "name": "stdout",
     "output_type": "stream",
     "text": [
      "2024-11-21 16:17:53,363 Running on GPU\n",
      "2024-11-21 16:17:53,383 Found 2 citations for tools or databases\n",
      "2024-11-21 16:17:53,384 Query 1/8: partial_deletion (length 1)\n",
      "2024-11-21 16:17:59,319 Padding length to 6\n",
      "2024-11-21 16:18:08,249 alphafold2_ptm_model_1_seed_000 recycle=0 pLDDT=50.6 pTM=0.00224\n",
      "2024-11-21 16:18:08,316 alphafold2_ptm_model_1_seed_000 recycle=1 pLDDT=15.5 pTM=0.000328 tol=0.0001\n",
      "2024-11-21 16:18:08,384 alphafold2_ptm_model_1_seed_000 recycle=2 pLDDT=15.5 pTM=0.000279 tol=0.0001\n",
      "2024-11-21 16:18:08,451 alphafold2_ptm_model_1_seed_000 recycle=3 pLDDT=15.5 pTM=0.000291 tol=0.0001\n",
      "2024-11-21 16:18:08,452 alphafold2_ptm_model_1_seed_000 took 9.1s (3 recycles)\n",
      "2024-11-21 16:18:08,461 reranking models by 'plddt' metric\n",
      "2024-11-21 16:18:08,462 rank_001_alphafold2_ptm_model_1_seed_000 pLDDT=15.5 pTM=0.000291\n",
      "2024-11-21 16:18:08,779 Query 2/8: circular_permutation (length 3)\n",
      "2024-11-21 16:18:09,991 Padding length to 6\n",
      "2024-11-21 16:18:10,047 alphafold2_ptm_model_1_seed_000 recycle=0 pLDDT=60.8 pTM=0.0875\n",
      "2024-11-21 16:18:10,103 alphafold2_ptm_model_1_seed_000 recycle=1 pLDDT=37.6 pTM=0.00035 tol=16.8\n",
      "2024-11-21 16:18:10,159 alphafold2_ptm_model_1_seed_000 recycle=2 pLDDT=24.4 pTM=0.000371 tol=11\n",
      "2024-11-21 16:18:10,217 alphafold2_ptm_model_1_seed_000 recycle=3 pLDDT=27.6 pTM=0.000593 tol=7.88\n",
      "2024-11-21 16:18:10,218 alphafold2_ptm_model_1_seed_000 took 0.2s (3 recycles)\n",
      "2024-11-21 16:18:10,228 reranking models by 'plddt' metric\n",
      "2024-11-21 16:18:10,228 rank_001_alphafold2_ptm_model_1_seed_000 pLDDT=27.6 pTM=0.000593\n",
      "2024-11-21 16:18:10,546 Query 3/8: point_deletion (length 3)\n",
      "2024-11-21 16:18:11,732 Padding length to 6\n",
      "2024-11-21 16:18:11,790 alphafold2_ptm_model_1_seed_000 recycle=0 pLDDT=78.6 pTM=0.117\n",
      "2024-11-21 16:18:11,846 alphafold2_ptm_model_1_seed_000 recycle=1 pLDDT=28.7 pTM=0.0015 tol=1.98\n",
      "2024-11-21 16:18:11,903 alphafold2_ptm_model_1_seed_000 recycle=2 pLDDT=37.1 pTM=0.000858 tol=47.4\n",
      "2024-11-21 16:18:11,960 alphafold2_ptm_model_1_seed_000 recycle=3 pLDDT=34.1 pTM=0.000412 tol=28.3\n",
      "2024-11-21 16:18:11,961 alphafold2_ptm_model_1_seed_000 took 0.2s (3 recycles)\n",
      "2024-11-21 16:18:11,970 reranking models by 'plddt' metric\n",
      "2024-11-21 16:18:11,970 rank_001_alphafold2_ptm_model_1_seed_000 pLDDT=34.1 pTM=0.000412\n",
      "2024-11-21 16:18:12,308 Query 4/8: point_insertion (length 3)\n",
      "2024-11-21 16:18:13,541 Padding length to 6\n",
      "2024-11-21 16:18:13,599 alphafold2_ptm_model_1_seed_000 recycle=0 pLDDT=70.8 pTM=0.119\n",
      "2024-11-21 16:18:13,656 alphafold2_ptm_model_1_seed_000 recycle=1 pLDDT=27 pTM=0.0013 tol=2.8\n",
      "2024-11-21 16:18:13,715 alphafold2_ptm_model_1_seed_000 recycle=2 pLDDT=35.7 pTM=0.000862 tol=39.5\n",
      "2024-11-21 16:18:13,775 alphafold2_ptm_model_1_seed_000 recycle=3 pLDDT=20.5 pTM=0.00054 tol=30.5\n",
      "2024-11-21 16:18:13,775 alphafold2_ptm_model_1_seed_000 took 0.2s (3 recycles)\n",
      "2024-11-21 16:18:13,784 reranking models by 'plddt' metric\n",
      "2024-11-21 16:18:13,784 rank_001_alphafold2_ptm_model_1_seed_000 pLDDT=20.5 pTM=0.00054\n",
      "2024-11-21 16:18:14,135 Query 5/8: point_mutation (length 3)\n",
      "2024-11-21 16:18:15,355 Padding length to 6\n",
      "2024-11-21 16:18:15,412 alphafold2_ptm_model_1_seed_000 recycle=0 pLDDT=70.8 pTM=0.119\n",
      "2024-11-21 16:18:15,468 alphafold2_ptm_model_1_seed_000 recycle=1 pLDDT=27 pTM=0.0013 tol=2.8\n",
      "2024-11-21 16:18:15,525 alphafold2_ptm_model_1_seed_000 recycle=2 pLDDT=35.7 pTM=0.000862 tol=39.5\n",
      "2024-11-21 16:18:15,583 alphafold2_ptm_model_1_seed_000 recycle=3 pLDDT=20.5 pTM=0.00054 tol=30.5\n",
      "2024-11-21 16:18:15,584 alphafold2_ptm_model_1_seed_000 took 0.2s (3 recycles)\n",
      "2024-11-21 16:18:15,593 reranking models by 'plddt' metric\n",
      "2024-11-21 16:18:15,593 rank_001_alphafold2_ptm_model_1_seed_000 pLDDT=20.5 pTM=0.00054\n",
      "2024-11-21 16:18:15,943 Query 6/8: partial_duplication (length 5)\n",
      "2024-11-21 16:18:17,537 Padding length to 6\n",
      "2024-11-21 16:18:17,604 alphafold2_ptm_model_1_seed_000 recycle=0 pLDDT=73.8 pTM=0.076\n",
      "2024-11-21 16:18:17,671 alphafold2_ptm_model_1_seed_000 recycle=1 pLDDT=60.5 pTM=0.0749 tol=1.69\n",
      "2024-11-21 16:18:17,727 alphafold2_ptm_model_1_seed_000 recycle=2 pLDDT=59.2 pTM=0.074 tol=1.06\n",
      "2024-11-21 16:18:17,784 alphafold2_ptm_model_1_seed_000 recycle=3 pLDDT=42.5 pTM=0.0701 tol=1.42\n",
      "2024-11-21 16:18:17,785 alphafold2_ptm_model_1_seed_000 took 0.2s (3 recycles)\n",
      "2024-11-21 16:18:17,788 reranking models by 'plddt' metric\n",
      "2024-11-21 16:18:17,788 rank_001_alphafold2_ptm_model_1_seed_000 pLDDT=42.5 pTM=0.0701\n",
      "2024-11-21 16:18:18,128 Query 7/8: full_duplication (length 6)\n",
      "2024-11-21 16:18:19,377 alphafold2_ptm_model_1_seed_000 recycle=0 pLDDT=73.2 pTM=0.0657\n",
      "2024-11-21 16:18:19,434 alphafold2_ptm_model_1_seed_000 recycle=1 pLDDT=65.6 pTM=0.0636 tol=0.709\n",
      "2024-11-21 16:18:19,491 alphafold2_ptm_model_1_seed_000 recycle=2 pLDDT=59.8 pTM=0.0636 tol=0.583\n",
      "2024-11-21 16:18:19,548 alphafold2_ptm_model_1_seed_000 recycle=3 pLDDT=58 pTM=0.0636 tol=3.13\n",
      "2024-11-21 16:18:19,549 alphafold2_ptm_model_1_seed_000 took 0.2s (3 recycles)\n",
      "2024-11-21 16:18:19,558 reranking models by 'plddt' metric\n",
      "2024-11-21 16:18:19,558 rank_001_alphafold2_ptm_model_1_seed_000 pLDDT=58 pTM=0.0636\n",
      "2024-11-21 16:18:19,865 Query 8/8: random_insertion (length 6)\n",
      "2024-11-21 16:18:21,149 alphafold2_ptm_model_1_seed_000 recycle=0 pLDDT=67.3 pTM=0.0698\n",
      "2024-11-21 16:18:21,206 alphafold2_ptm_model_1_seed_000 recycle=1 pLDDT=75.4 pTM=0.0693 tol=0.5\n",
      "2024-11-21 16:18:21,264 alphafold2_ptm_model_1_seed_000 recycle=2 pLDDT=68.6 pTM=0.0693 tol=0.245\n",
      "2024-11-21 16:18:21,321 alphafold2_ptm_model_1_seed_000 recycle=3 pLDDT=65.8 pTM=0.0697 tol=0.41\n",
      "2024-11-21 16:18:21,322 alphafold2_ptm_model_1_seed_000 took 0.2s (3 recycles)\n",
      "2024-11-21 16:18:21,324 reranking models by 'plddt' metric\n",
      "2024-11-21 16:18:21,324 rank_001_alphafold2_ptm_model_1_seed_000 pLDDT=65.8 pTM=0.0697\n",
      "2024-11-21 16:18:21,655 Done\n",
      "{'rank': [['rank_001_alphafold2_ptm_model_1_seed_000'], ['rank_001_alphafold2_ptm_model_1_seed_000'], ['rank_001_alphafold2_ptm_model_1_seed_000'], ['rank_001_alphafold2_ptm_model_1_seed_000'], ['rank_001_alphafold2_ptm_model_1_seed_000'], ['rank_001_alphafold2_ptm_model_1_seed_000'], ['rank_001_alphafold2_ptm_model_1_seed_000'], ['rank_001_alphafold2_ptm_model_1_seed_000']], 'metric': [[{'mean_plddt': 15.453125, 'ptm': 0.0002906322479248047, 'print_line': ' pLDDT=15.5 pTM=0.000291'}], [{'mean_plddt': 27.5625, 'ptm': 0.0005927085876464844, 'print_line': ' pLDDT=27.6 pTM=0.000593'}], [{'mean_plddt': 34.09375, 'ptm': 0.0004119873046875, 'print_line': ' pLDDT=34.1 pTM=0.000412'}], [{'mean_plddt': 20.515625, 'ptm': 0.0005397796630859375, 'print_line': ' pLDDT=20.5 pTM=0.00054'}], [{'mean_plddt': 20.515625, 'ptm': 0.0005397796630859375, 'print_line': ' pLDDT=20.5 pTM=0.00054'}], [{'mean_plddt': 42.5, 'ptm': 0.070068359375, 'print_line': ' pLDDT=42.5 pTM=0.0701'}], [{'mean_plddt': 57.96875, 'ptm': 0.0635986328125, 'print_line': ' pLDDT=58 pTM=0.0636'}], [{'mean_plddt': 65.75, 'ptm': 0.0697021484375, 'print_line': ' pLDDT=65.8 pTM=0.0697'}]]}\n"
     ]
    }
   ],
   "source": [
    "results = fold('mutations', 'test')\n",
    "print(results)"
   ]
  },
  {
   "cell_type": "code",
   "execution_count": null,
   "metadata": {},
   "outputs": [],
   "source": [
    "fitnesses = []\n",
    "for metrics in results['metric']:\n",
    "    mean_plddt = metrics[0]['mean_plddt']\n",
    "    ptm = metrics[0]['ptm']\n",
    "    fitness = calculate_fitness(mean_plddt, ptm)\n",
    "    fitnesses.append(fitness)\n"
   ]
  },
  {
   "cell_type": "code",
   "execution_count": 67,
   "metadata": {},
   "outputs": [],
   "source": [
    "def calculate_fitness(mean_plddt, ptm):\n",
    "    return (mean_plddt / 100) * 0.5 + ptm * 0.5"
   ]
  },
  {
   "cell_type": "code",
   "execution_count": 55,
   "metadata": {},
   "outputs": [
    {
     "data": {
      "text/plain": [
       "0.17051666666666665"
      ]
     },
     "execution_count": 55,
     "metadata": {},
     "output_type": "execute_result"
    }
   ],
   "source": [
    "calculate_fitness('point_deletion')"
   ]
  },
  {
   "cell_type": "code",
   "execution_count": 59,
   "metadata": {},
   "outputs": [],
   "source": [
    "all_fitnesses = {\n",
    "    mutation.__name__: calculate_fitness(mutation.__name__)\n",
    "    for mutation in all_mutations\n",
    "}"
   ]
  },
  {
   "cell_type": "code",
   "execution_count": 60,
   "metadata": {},
   "outputs": [
    {
     "data": {
      "text/plain": [
       "{'point_insertion': 0.10254999999999999,\n",
       " 'point_deletion': 0.17051666666666665,\n",
       " 'point_mutation': 0.10254999999999999,\n",
       " 'partial_deletion': 0.07725,\n",
       " 'random_insertion': 0.36377500000000007,\n",
       " 'partial_duplication': 0.24752999999999997,\n",
       " 'circular_permutation': 0.13785000000000003,\n",
       " 'full_duplication': 0.3197416666666666}"
      ]
     },
     "execution_count": 60,
     "metadata": {},
     "output_type": "execute_result"
    }
   ],
   "source": [
    "all_fitnesses"
   ]
  },
  {
   "cell_type": "markdown",
   "metadata": {},
   "source": [
    "## End goals\n",
    "* List of mutated genes along with their predicted folds\n",
    "    * Fasta file with associated pdb file\n",
    "* Metadata with gene seq : [protein fasta file, folded pdb file, fitness, generation, parent(s)]"
   ]
  }
 ],
 "metadata": {
  "kernelspec": {
   "display_name": "Python 3",
   "language": "python",
   "name": "python3"
  },
  "language_info": {
   "codemirror_mode": {
    "name": "ipython",
    "version": 3
   },
   "file_extension": ".py",
   "mimetype": "text/x-python",
   "name": "python",
   "nbconvert_exporter": "python",
   "pygments_lexer": "ipython3",
   "version": "3.10.15"
  }
 },
 "nbformat": 4,
 "nbformat_minor": 2
}
