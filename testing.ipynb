{
 "cells": [
  {
   "cell_type": "code",
   "execution_count": 44,
   "metadata": {},
   "outputs": [],
   "source": [
    "from gene import Gene\n",
    "\n",
    "import os\n",
    "import shutil\n",
    "import json\n",
    "from pathlib import Path\n",
    "from tqdm import trange\n",
    "import numpy as np\n",
    "import statistics\n",
    "from Bio import SeqIO\n",
    "from Bio.SeqRecord import SeqRecord\n",
    "from colabfold.batch import get_queries, run\n",
    "from colabfold.download import default_data_dir\n",
    "from colabfold.utils import setup_logging\n",
    "from matplotlib import pyplot as plt"
   ]
  },
  {
   "cell_type": "code",
   "execution_count": 62,
   "metadata": {},
   "outputs": [],
   "source": [
    "\n",
    "def clear_dir(filepath):\n",
    "    for root, dirs, files in os.walk(filepath):\n",
    "        for f in files:\n",
    "            os.unlink(os.path.join(root, f))\n",
    "        for d in dirs:\n",
    "            shutil.rmtree(os.path.join(root, d))\n",
    "\n",
    "def save_proteins(genes, folder):\n",
    "    os.mkdir(folder)\n",
    "    for i, gene in enumerate(genes):\n",
    "        protein = gene.get_protein()\n",
    "        record = SeqRecord(protein, id=str(i), description=str(gene))\n",
    "        filename = f'{folder}/gene{i}.fasta'\n",
    "        gene.fasta = filename\n",
    "        SeqIO.write(record, f'{folder}/gene{i}.fasta', 'fasta')\n",
    "    \n",
    "def fold(input_dir, result_dir, kwargs):\n",
    "    setup_logging(Path(result_dir).joinpath(\"log.txt\"))\n",
    "    kwargs['queries'], kwargs['is_complex'] = get_queries(input_dir)\n",
    "    kwargs['result_dir'] = result_dir\n",
    "    results = run(**kwargs)\n",
    "    return results\n",
    "\n",
    "def calculate_fitnesses(genes, results):\n",
    "    for gene, metric in zip(genes, results['metric']):\n",
    "        mean_plddt, ptm = metric[0]['mean_plddt'], metric[0]['ptm']\n",
    "        fitness = (mean_plddt / 100) * 0.5 + ptm * 0.5 + len(gene.get_protein()) * 0.01\n",
    "        gene.fitness = fitness\n",
    "\n",
    "def log_evolution(generations, logfile):\n",
    "    with open(logfile, 'w') as f:\n",
    "        data = [[gene.__dict__ for gene in gen] for gen in generations]\n",
    "        json.dump(data, f)\n",
    "\n",
    "def read_evolution(logfile):\n",
    "    with open(logfile, 'r') as f:\n",
    "        data = json.load(f)\n",
    "        generations = [[Gene(**d) for d in gen] for gen in data]\n",
    "    return generations\n",
    "\n",
    "def plot_fitnesses(generations):\n",
    "    fig = plt.figure()\n",
    "    x = np.arange(len(generations))\n",
    "    y = [np.mean([gene.fitness for gene in gen]) for gen in generations]\n",
    "    yerr = [np.std([gene.fitness for gene in gen]) for gen in generations]\n",
    "    plt.errorbar(x, y, yerr=yerr)\n",
    "    plt.show()"
   ]
  },
  {
   "cell_type": "code",
   "execution_count": 69,
   "metadata": {},
   "outputs": [],
   "source": [
    "n_genes = 10\n",
    "n_bases = 50\n",
    "n_generations = 10\n",
    "proteins_path = 'proteins'\n",
    "folds_path = 'folds'\n",
    "logfile = 'log.txt'\n",
    "\n",
    "colabfold_params = {\n",
    "    'msa_mode': \"single_sequence\", #@param [\"MMseqs2 (UniRef+Environmental)\", \"MMseqs2 (UniRef only)\",\"single_sequence\",\"custom\"]\n",
    "    'num_models': 1, #@param [1,2,3,4,5] {type:\"raw\"}\n",
    "    'num_recycles': 3, #@param [1,3,6,12,24,48] {type:\"raw\"}\n",
    "    'stop_at_score': 100, #@param {type:\"string\"}\n",
    "    'num_relax': 0, #@param [0, 1, 5] {type:\"raw\"}\n",
    "    'use_amber': False,\n",
    "    'relax_max_iterations': 200, #@param [0,200,2000] {type:\"raw\"}\n",
    "    'use_templates': False, #@param {type:\"boolean\"}\n",
    "    'keep_existing_results': True, #@param {type:\"boolean\"}\n",
    "    'zip_results': False, #@param {type:\"boolean\"}\n",
    "    'model_type': \"auto\",\n",
    "    'model_order': [1, 2, 3, 4, 5],\n",
    "    'data_dir': default_data_dir,\n",
    "    'keep_existing_results': True,\n",
    "    'rank_by': \"auto\",\n",
    "    'pair_mode': \"unpaired+paired\",\n",
    "    'user_agent': \"colabfold/google-colab-batch\",\n",
    "}"
   ]
  },
  {
   "cell_type": "code",
   "execution_count": 72,
   "metadata": {},
   "outputs": [],
   "source": [
    "clear_dir(proteins_path)\n",
    "clear_dir(folds_path)"
   ]
  },
  {
   "cell_type": "code",
   "execution_count": null,
   "metadata": {},
   "outputs": [
    {
     "name": "stderr",
     "output_type": "stream",
     "text": [
      "/home/ben/code/localcolabfold/colabfold-conda/lib/python3.10/site-packages/Bio/Seq.py:2880: BiopythonWarning: Partial codon, len(sequence) not a multiple of three. Explicitly trim the sequence or add trailing N before translation. This may become an error in future.\n",
      "  warnings.warn(\n"
     ]
    },
    {
     "name": "stdout",
     "output_type": "stream",
     "text": [
      "2024-12-28 17:49:30,438 Running on GPU\n",
      "2024-12-28 17:49:30,443 Found 2 citations for tools or databases\n",
      "2024-12-28 17:49:30,443 Query 1/10: gene4 (length 1)\n",
      "2024-12-28 17:49:33,999 Padding length to 11\n",
      "2024-12-28 17:49:44,189 alphafold2_ptm_model_1_seed_000 recycle=0 pLDDT=27 pTM=9.41e-05\n",
      "2024-12-28 17:49:44,279 alphafold2_ptm_model_1_seed_000 recycle=1 pLDDT=28.3 pTM=0.00013 tol=0.0001\n",
      "2024-12-28 17:49:44,366 alphafold2_ptm_model_1_seed_000 recycle=2 pLDDT=57.7 pTM=9.8e-05 tol=0.0001\n",
      "2024-12-28 17:49:44,456 alphafold2_ptm_model_1_seed_000 recycle=3 pLDDT=47.7 pTM=0.000107 tol=0.0001\n",
      "2024-12-28 17:49:44,457 alphafold2_ptm_model_1_seed_000 took 10.5s (3 recycles)\n",
      "2024-12-28 17:49:44,459 reranking models by 'plddt' metric\n",
      "2024-12-28 17:49:44,459 rank_001_alphafold2_ptm_model_1_seed_000 pLDDT=47.7 pTM=0.000107\n",
      "2024-12-28 17:49:44,784 Query 2/10: gene6 (length 1)\n",
      "2024-12-28 17:49:45,979 Padding length to 11\n",
      "2024-12-28 17:49:46,065 alphafold2_ptm_model_1_seed_000 recycle=0 pLDDT=44.5 pTM=0.000284\n",
      "2024-12-28 17:49:46,152 alphafold2_ptm_model_1_seed_000 recycle=1 pLDDT=20.6 pTM=0.000159 tol=0.0001\n",
      "2024-12-28 17:49:46,239 alphafold2_ptm_model_1_seed_000 recycle=2 pLDDT=15.3 pTM=0.00035 tol=0.0001\n",
      "2024-12-28 17:49:46,325 alphafold2_ptm_model_1_seed_000 recycle=3 pLDDT=17 pTM=0.000913 tol=0.0001\n",
      "2024-12-28 17:49:46,326 alphafold2_ptm_model_1_seed_000 took 0.3s (3 recycles)\n",
      "2024-12-28 17:49:46,327 reranking models by 'plddt' metric\n",
      "2024-12-28 17:49:46,327 rank_001_alphafold2_ptm_model_1_seed_000 pLDDT=17 pTM=0.000913\n",
      "2024-12-28 17:49:46,622 Query 3/10: gene3 (length 4)\n",
      "2024-12-28 17:49:47,761 Padding length to 11\n",
      "2024-12-28 17:49:47,848 alphafold2_ptm_model_1_seed_000 recycle=0 pLDDT=74.2 pTM=0.0925\n",
      "2024-12-28 17:49:47,935 alphafold2_ptm_model_1_seed_000 recycle=1 pLDDT=31.9 pTM=0.00209 tol=2.07\n",
      "2024-12-28 17:49:48,021 alphafold2_ptm_model_1_seed_000 recycle=2 pLDDT=28.6 pTM=0.000521 tol=29.6\n",
      "2024-12-28 17:49:48,108 alphafold2_ptm_model_1_seed_000 recycle=3 pLDDT=34 pTM=0.000656 tol=11.7\n",
      "2024-12-28 17:49:48,108 alphafold2_ptm_model_1_seed_000 took 0.3s (3 recycles)\n",
      "2024-12-28 17:49:48,111 reranking models by 'plddt' metric\n",
      "2024-12-28 17:49:48,111 rank_001_alphafold2_ptm_model_1_seed_000 pLDDT=34 pTM=0.000656\n",
      "2024-12-28 17:49:48,410 Query 4/10: gene8 (length 7)\n",
      "2024-12-28 17:49:49,538 Padding length to 11\n",
      "2024-12-28 17:49:49,626 alphafold2_ptm_model_1_seed_000 recycle=0 pLDDT=80.4 pTM=0.063\n",
      "2024-12-28 17:49:49,712 alphafold2_ptm_model_1_seed_000 recycle=1 pLDDT=83.4 pTM=0.0624 tol=0.0933\n",
      "2024-12-28 17:49:49,799 alphafold2_ptm_model_1_seed_000 recycle=2 pLDDT=83.6 pTM=0.0627 tol=0.0428\n",
      "2024-12-28 17:49:49,887 alphafold2_ptm_model_1_seed_000 recycle=3 pLDDT=76.2 pTM=0.0624 tol=0.185\n",
      "2024-12-28 17:49:49,887 alphafold2_ptm_model_1_seed_000 took 0.3s (3 recycles)\n",
      "2024-12-28 17:49:49,889 reranking models by 'plddt' metric\n",
      "2024-12-28 17:49:49,889 rank_001_alphafold2_ptm_model_1_seed_000 pLDDT=76.2 pTM=0.0624\n",
      "2024-12-28 17:49:50,195 Query 5/10: gene9 (length 9)\n",
      "2024-12-28 17:49:51,336 Padding length to 11\n",
      "2024-12-28 17:49:51,424 alphafold2_ptm_model_1_seed_000 recycle=0 pLDDT=78.9 pTM=0.0498\n",
      "2024-12-28 17:49:51,510 alphafold2_ptm_model_1_seed_000 recycle=1 pLDDT=81.3 pTM=0.0503 tol=0.141\n",
      "2024-12-28 17:49:51,597 alphafold2_ptm_model_1_seed_000 recycle=2 pLDDT=80.3 pTM=0.0503 tol=0.107\n",
      "2024-12-28 17:49:51,684 alphafold2_ptm_model_1_seed_000 recycle=3 pLDDT=68.9 pTM=0.0502 tol=1.06\n",
      "2024-12-28 17:49:51,684 alphafold2_ptm_model_1_seed_000 took 0.3s (3 recycles)\n",
      "2024-12-28 17:49:51,687 reranking models by 'plddt' metric\n",
      "2024-12-28 17:49:51,687 rank_001_alphafold2_ptm_model_1_seed_000 pLDDT=68.9 pTM=0.0502\n",
      "2024-12-28 17:49:51,981 Query 6/10: gene1 (length 10)\n",
      "2024-12-28 17:49:53,116 Padding length to 11\n",
      "2024-12-28 17:49:53,205 alphafold2_ptm_model_1_seed_000 recycle=0 pLDDT=71.9 pTM=0.041\n",
      "2024-12-28 17:49:53,292 alphafold2_ptm_model_1_seed_000 recycle=1 pLDDT=76.6 pTM=0.0428 tol=0.779\n",
      "2024-12-28 17:49:53,378 alphafold2_ptm_model_1_seed_000 recycle=2 pLDDT=78.4 pTM=0.043 tol=0.216\n",
      "2024-12-28 17:49:53,465 alphafold2_ptm_model_1_seed_000 recycle=3 pLDDT=78.6 pTM=0.0428 tol=0.107\n",
      "2024-12-28 17:49:53,465 alphafold2_ptm_model_1_seed_000 took 0.3s (3 recycles)\n",
      "2024-12-28 17:49:53,467 reranking models by 'plddt' metric\n",
      "2024-12-28 17:49:53,467 rank_001_alphafold2_ptm_model_1_seed_000 pLDDT=78.6 pTM=0.0428\n",
      "2024-12-28 17:49:53,756 Query 7/10: gene5 (length 10)\n",
      "2024-12-28 17:49:54,881 Padding length to 11\n",
      "2024-12-28 17:49:54,968 alphafold2_ptm_model_1_seed_000 recycle=0 pLDDT=68 pTM=0.0446\n",
      "2024-12-28 17:49:55,055 alphafold2_ptm_model_1_seed_000 recycle=1 pLDDT=76.4 pTM=0.0454 tol=0.456\n",
      "2024-12-28 17:49:55,142 alphafold2_ptm_model_1_seed_000 recycle=2 pLDDT=77.4 pTM=0.0457 tol=0.107\n",
      "2024-12-28 17:49:55,229 alphafold2_ptm_model_1_seed_000 recycle=3 pLDDT=77.8 pTM=0.0458 tol=0.0705\n",
      "2024-12-28 17:49:55,230 alphafold2_ptm_model_1_seed_000 took 0.3s (3 recycles)\n",
      "2024-12-28 17:49:55,233 reranking models by 'plddt' metric\n",
      "2024-12-28 17:49:55,233 rank_001_alphafold2_ptm_model_1_seed_000 pLDDT=77.8 pTM=0.0458\n",
      "2024-12-28 17:49:55,527 Query 8/10: gene0 (length 16)\n",
      "2024-12-28 17:50:04,738 alphafold2_ptm_model_1_seed_000 recycle=0 pLDDT=72.1 pTM=0.0368\n",
      "2024-12-28 17:50:04,862 alphafold2_ptm_model_1_seed_000 recycle=1 pLDDT=79.1 pTM=0.0405 tol=0.247\n",
      "2024-12-28 17:50:04,964 alphafold2_ptm_model_1_seed_000 recycle=2 pLDDT=79.7 pTM=0.0409 tol=0.0757\n",
      "2024-12-28 17:50:05,066 alphafold2_ptm_model_1_seed_000 recycle=3 pLDDT=79.2 pTM=0.0407 tol=0.0453\n",
      "2024-12-28 17:50:05,066 alphafold2_ptm_model_1_seed_000 took 8.4s (3 recycles)\n",
      "2024-12-28 17:50:05,070 reranking models by 'plddt' metric\n",
      "2024-12-28 17:50:05,070 rank_001_alphafold2_ptm_model_1_seed_000 pLDDT=79.2 pTM=0.0407\n",
      "2024-12-28 17:50:05,364 Query 9/10: gene2 (length 16)\n",
      "2024-12-28 17:50:06,585 alphafold2_ptm_model_1_seed_000 recycle=0 pLDDT=73.2 pTM=0.0298\n",
      "2024-12-28 17:50:06,686 alphafold2_ptm_model_1_seed_000 recycle=1 pLDDT=75.9 pTM=0.0317 tol=0.742\n",
      "2024-12-28 17:50:06,788 alphafold2_ptm_model_1_seed_000 recycle=2 pLDDT=78.1 pTM=0.0334 tol=0.159\n",
      "2024-12-28 17:50:06,889 alphafold2_ptm_model_1_seed_000 recycle=3 pLDDT=76.9 pTM=0.0341 tol=0.246\n",
      "2024-12-28 17:50:06,890 alphafold2_ptm_model_1_seed_000 took 0.4s (3 recycles)\n",
      "2024-12-28 17:50:06,892 reranking models by 'plddt' metric\n",
      "2024-12-28 17:50:06,893 rank_001_alphafold2_ptm_model_1_seed_000 pLDDT=76.9 pTM=0.0341\n",
      "2024-12-28 17:50:07,183 Query 10/10: gene7 (length 16)\n",
      "2024-12-28 17:50:09,297 alphafold2_ptm_model_1_seed_000 recycle=0 pLDDT=56.9 pTM=0.0245\n",
      "2024-12-28 17:50:09,401 alphafold2_ptm_model_1_seed_000 recycle=1 pLDDT=58.8 pTM=0.0248 tol=2\n",
      "2024-12-28 17:50:09,506 alphafold2_ptm_model_1_seed_000 recycle=2 pLDDT=60.2 pTM=0.025 tol=1.37\n",
      "2024-12-28 17:50:09,609 alphafold2_ptm_model_1_seed_000 recycle=3 pLDDT=60.3 pTM=0.0252 tol=0.475\n",
      "2024-12-28 17:50:09,610 alphafold2_ptm_model_1_seed_000 took 0.4s (3 recycles)\n",
      "2024-12-28 17:50:09,614 reranking models by 'plddt' metric\n",
      "2024-12-28 17:50:09,614 rank_001_alphafold2_ptm_model_1_seed_000 pLDDT=60.3 pTM=0.0252\n"
     ]
    },
    {
     "name": "stderr",
     "output_type": "stream",
     "text": [
      "/home/ben/code/localcolabfold/colabfold-conda/lib/python3.10/site-packages/Bio/Seq.py:2880: BiopythonWarning: Partial codon, len(sequence) not a multiple of three. Explicitly trim the sequence or add trailing N before translation. This may become an error in future.\n",
      "  warnings.warn(\n"
     ]
    },
    {
     "name": "stdout",
     "output_type": "stream",
     "text": [
      "2024-12-28 17:50:09,907 Done\n"
     ]
    },
    {
     "name": "stderr",
     "output_type": "stream",
     "text": [
      "  0%|          | 0/10 [00:00<?, ?it/s]"
     ]
    },
    {
     "name": "stdout",
     "output_type": "stream",
     "text": [
      "2024-12-28 17:50:09,913 Running on GPU\n",
      "2024-12-28 17:50:09,917 Found 2 citations for tools or databases\n",
      "2024-12-28 17:50:09,919 Query 1/10: gene1 (length 4)\n"
     ]
    }
   ],
   "source": [
    "# first generation\n",
    "generation = [Gene.generate(n_bases) for _ in range(n_genes)]\n",
    "# filter empty proteins (begins with stop codon)\n",
    "generation = [gene for gene in generation if len(gene.get_protein()) > 0]\n",
    "save_proteins(generation, f'{proteins_path}/gen{0}')\n",
    "results = fold(f'{proteins_path}/gen{0}', f'{folds_path}/gen{0}', colabfold_params)\n",
    "calculate_fitnesses(generation, results)\n",
    "generations = [generation]\n",
    "\n",
    "# subsequent generations\n",
    "for i in trange(1, n_generations+1):\n",
    "    \n",
    "    mutations = [gene.random_mutation() for gene in generation]\n",
    "    # remove empty proteins\n",
    "    mutations = [gene for gene in mutations if len(gene.get_protein()) > 0]\n",
    "\n",
    "    # fold mutated proteins and calculate fitnesses as a batch\n",
    "    save_proteins(mutations, f'{proteins_path}/gen{i}')\n",
    "    results = fold(f'{proteins_path}/gen{i}', f'{folds_path}/gen{i}', colabfold_params)\n",
    "    calculate_fitnesses(mutations, results)\n",
    "    generation += mutations\n",
    "\n",
    "    # stochastic selection\n",
    "    fitnesses = [gene.fitness for gene in generation]\n",
    "    generation = np.random.choice(generation, size=n_genes, replace=False, p=np.divide(fitnesses, sum(fitnesses))).tolist()\n",
    "    generations.append(generation)\n",
    "\n",
    "log_evolution(generations, logfile)"
   ]
  },
  {
   "cell_type": "code",
   "execution_count": 66,
   "metadata": {},
   "outputs": [],
   "source": [
    "generations = read_evolution(logfile)"
   ]
  },
  {
   "cell_type": "code",
   "execution_count": 67,
   "metadata": {},
   "outputs": [
    {
     "data": {
      "image/png": "[encoded data removed]",
      "text/plain": [
       "<Figure size 640x480 with 1 Axes>"
      ]
     },
     "metadata": {},
     "output_type": "display_data"
    }
   ],
   "source": [
    "plot_fitnesses(generations)"
   ]
  }
 ],
 "metadata": {
  "kernelspec": {
   "display_name": "colabfold-conda",
   "language": "python",
   "name": "python3"
  },
  "language_info": {
   "codemirror_mode": {
    "name": "ipython",
    "version": 3
   },
   "file_extension": ".py",
   "mimetype": "text/x-python",
   "name": "python",
   "nbconvert_exporter": "python",
   "pygments_lexer": "ipython3",
   "version": "3.10.15"
  }
 },
 "nbformat": 4,
 "nbformat_minor": 2
}
