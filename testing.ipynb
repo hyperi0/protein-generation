{
 "cells": [
  {
   "cell_type": "code",
   "execution_count": 16,
   "metadata": {},
   "outputs": [],
   "source": [
    "from Bio.Seq import Seq\n",
    "from copy import deepcopy\n",
    "import random\n",
    "\n",
    "class Gene():\n",
    "    def __init__(self, length):\n",
    "        self.nts = [random.choice(('A', 'T', 'C', 'G')) for _ in range(length)]\n",
    "        self.generation = 0\n",
    "        self.mutation = None\n",
    "\n",
    "    def __str__(self):\n",
    "        return f'nts: {\"\".join(self.nts)}\\n generation: {self.generation}\\n mutation: {self.mutation}'\n",
    "\n",
    "    def get_protein(self):\n",
    "        return Seq(self.nts).translate(stop_symbol=\"\")\n",
    "\n",
    "    def clone(self):\n",
    "        new_gene = deepcopy(self)\n",
    "        new_gene.generation += 1\n",
    "        return new_gene\n",
    "\n",
    "    def point_insertion(self):\n",
    "        base = random.choice(('A', 'T', 'C', 'G'))\n",
    "        pos = random.randint(0, len(self.nts))\n",
    "        self.nts.insert(pos, base)\n",
    "        self.mutation = 'point_insertion'\n",
    "\n",
    "    def point_deletion(self):\n",
    "        pos = random.randint(0, len(self.nts)-1)\n",
    "        del self.nts[pos]\n",
    "        self.mutation = 'point_deletion'\n",
    "\n",
    "    def point_mutation(self):\n",
    "        pos = random.randint(0, len(self.nts)-1)\n",
    "        base = random.choice(list({'A', 'T', 'C', 'G'} - {self.nts[pos]}))\n",
    "        self.nts[pos] = base\n",
    "        self.mutation = 'point_mutation'\n",
    "    \n",
    "    def partial_deletion(self):\n",
    "        start = random.randint(0, len(self.nts)-1)\n",
    "        end = random.randint(start+1, len(self.nts))\n",
    "        self.nts = self.nts[start:end]\n",
    "        self.mutation = 'partial_deletion'\n",
    "    \n",
    "    def random_insertion(self):\n",
    "        pos = random.randint(0, len(self.nts))\n",
    "        seq_len = random.randint(1, len(self.nts))\n",
    "        new_seq = [random.choice(('A', 'T', 'C', 'G')) for _ in range(seq_len)]\n",
    "        self.nts[pos:pos] = new_seq\n",
    "        self.mutation = 'random_insertion'\n",
    "\n",
    "    def partial_duplication(self):\n",
    "        pos = random.randint(0, len(self.nts)-1)\n",
    "        seq_len = random.randint(1, len(self.nts))\n",
    "        new_seq = self.nts[pos:pos+seq_len]\n",
    "        self.nts[pos:pos] = new_seq\n",
    "        self.mutation = 'partial_duplication'\n",
    "\n",
    "    def circular_permutation(self):\n",
    "        pos = random.randint(1, len(self.nts)-1)\n",
    "        self.nts = self.nts[pos:] + self.nts[:pos]\n",
    "        self.mutation = 'circular_permutation'\n",
    "\n",
    "    def full_duplication(self):\n",
    "        self.nts = self.nts + self.nts\n",
    "        self.mutation = 'full_duplication'\n",
    "\n",
    "    def random_mutation(self):\n",
    "        mutations = [\n",
    "            self.point_insertion,\n",
    "            self.point_mutation,\n",
    "            self.random_insertion,\n",
    "            self.partial_duplication,\n",
    "            self.circular_permutation,\n",
    "            self.full_duplication,\n",
    "        ]\n",
    "        if len(self.nts) > 1:\n",
    "            mutations += [self.point_deletion, self.partial_deletion]\n",
    "        mutation = random.choice(mutations)\n",
    "        mutation()"
   ]
  },
  {
   "cell_type": "code",
   "execution_count": null,
   "metadata": {},
   "outputs": [],
   "source": [
    "genes = [Gene(10) for _ in range(8)]"
   ]
  },
  {
   "cell_type": "code",
   "execution_count": null,
   "metadata": {},
   "outputs": [],
   "source": [
    "all_mutations = [\n",
    "    'point_insertion',\n",
    "    'point_mutation',\n",
    "    'random_insertion',\n",
    "    'partial_duplication',\n",
    "    'circular_permutation',\n",
    "    'full_duplication',\n",
    "    'point_deletion',\n",
    "    'partial_deletion',\n",
    "]"
   ]
  },
  {
   "cell_type": "code",
   "execution_count": 21,
   "metadata": {},
   "outputs": [
    {
     "name": "stdout",
     "output_type": "stream",
     "text": [
      "nts: ACCCTTGTTGG\n",
      " generation: 1\n",
      " mutation: point_insertion\n",
      "11\n",
      "nts: CGTGGACCCC\n",
      " generation: 1\n",
      " mutation: point_mutation\n",
      "10\n",
      "nts: TCTATACGCAGCAA\n",
      " generation: 1\n",
      " mutation: random_insertion\n",
      "14\n",
      "nts: TGCGCTAACAGCTAACA\n",
      " generation: 1\n",
      " mutation: partial_duplication\n",
      "17\n",
      "nts: CCTTGACTGC\n",
      " generation: 1\n",
      " mutation: circular_permutation\n",
      "10\n",
      "nts: CATGGGGCCACATGGGGCCA\n",
      " generation: 1\n",
      " mutation: full_duplication\n",
      "20\n",
      "nts: TTACACTAA\n",
      " generation: 1\n",
      " mutation: point_deletion\n",
      "9\n",
      "nts: GTTTG\n",
      " generation: 1\n",
      " mutation: partial_deletion\n",
      "5\n"
     ]
    }
   ],
   "source": [
    "new_genes = []\n",
    "for gene, mutation in zip(genes, all_mutations):\n",
    "    mutation = getattr(Gene, mutation)\n",
    "    new_gene = gene.clone()\n",
    "    mutation(new_gene)\n",
    "    print(new_gene)\n",
    "    print(len(new_gene.nts))"
   ]
  },
  {
   "cell_type": "code",
   "execution_count": 6,
   "metadata": {},
   "outputs": [
    {
     "data": {
      "text/plain": [
       "<function __main__.Gene.partial_duplication(self)>"
      ]
     },
     "execution_count": 6,
     "metadata": {},
     "output_type": "execute_result"
    }
   ],
   "source": [
    "mutation"
   ]
  },
  {
   "cell_type": "code",
   "execution_count": 7,
   "metadata": {},
   "outputs": [],
   "source": [
    "mutation(genes[0])"
   ]
  },
  {
   "cell_type": "code",
   "execution_count": 8,
   "metadata": {},
   "outputs": [
    {
     "data": {
      "text/plain": [
       "<__main__.Gene at 0x7e00241efc40>"
      ]
     },
     "execution_count": 8,
     "metadata": {},
     "output_type": "execute_result"
    }
   ],
   "source": [
    "genes[0]"
   ]
  },
  {
   "cell_type": "code",
   "execution_count": 10,
   "metadata": {},
   "outputs": [
    {
     "data": {
      "text/plain": [
       "17"
      ]
     },
     "execution_count": 10,
     "metadata": {},
     "output_type": "execute_result"
    }
   ],
   "source": [
    "len(genes[0].nts)"
   ]
  },
  {
   "cell_type": "code",
   "execution_count": null,
   "metadata": {},
   "outputs": [],
   "source": []
  }
 ],
 "metadata": {
  "kernelspec": {
   "display_name": "bio",
   "language": "python",
   "name": "python3"
  },
  "language_info": {
   "codemirror_mode": {
    "name": "ipython",
    "version": 3
   },
   "file_extension": ".py",
   "mimetype": "text/x-python",
   "name": "python",
   "nbconvert_exporter": "python",
   "pygments_lexer": "ipython3",
   "version": "3.11.3"
  }
 },
 "nbformat": 4,
 "nbformat_minor": 2
}
