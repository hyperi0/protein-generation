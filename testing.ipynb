{
 "cells": [
  {
   "cell_type": "code",
   "execution_count": null,
   "metadata": {},
   "outputs": [
    {
     "ename": "",
     "evalue": "",
     "output_type": "error",
     "traceback": [
      "\u001b[1;31mRunning cells with 'colabfold-conda (Python 3.10.15)' requires the ipykernel package.\n",
      "\u001b[1;31mRun the following command to install 'ipykernel' into the Python environment. \n",
      "\u001b[1;31mCommand: 'conda install -n colabfold-conda ipykernel --update-deps --force-reinstall'"
     ]
    }
   ],
   "source": [
    "from gene import Gene\n",
    "\n",
    "import os\n",
    "import shutil\n",
    "import json\n",
    "from pathlib import Path\n",
    "from tqdm import trange\n",
    "import numpy as np\n",
    "from Bio import SeqIO\n",
    "from Bio.SeqRecord import SeqRecord\n",
    "from colabfold.batch import get_queries, run\n",
    "from colabfold.download import default_data_dir\n",
    "from colabfold.utils import setup_logging\n",
    "from matplotlib import pyplot as plt"
   ]
  },
  {
   "cell_type": "code",
   "execution_count": null,
   "metadata": {},
   "outputs": [
    {
     "ename": "",
     "evalue": "",
     "output_type": "error",
     "traceback": [
      "\u001b[1;31mRunning cells with 'colabfold-conda (Python 3.10.15)' requires the ipykernel package.\n",
      "\u001b[1;31mRun the following command to install 'ipykernel' into the Python environment. \n",
      "\u001b[1;31mCommand: 'conda install -n colabfold-conda ipykernel --update-deps --force-reinstall'"
     ]
    }
   ],
   "source": [
    "\n",
    "def clear_dir(filepath):\n",
    "    for root, dirs, files in os.walk(filepath):\n",
    "        for f in files:\n",
    "            os.unlink(os.path.join(root, f))\n",
    "        for d in dirs:\n",
    "            shutil.rmtree(os.path.join(root, d))\n",
    "\n",
    "def save_proteins(genes, folder):\n",
    "    os.mkdir(folder)\n",
    "    for i, gene in enumerate(genes):\n",
    "        protein = gene.get_protein()\n",
    "        record = SeqRecord(protein, id=str(i), description=str(gene))\n",
    "        filename = f'{folder}/gene{i}.fasta'\n",
    "        gene.fasta = filename\n",
    "        SeqIO.write(record, f'{folder}/gene{i}.fasta', 'fasta')\n",
    "    \n",
    "def fold(input_dir, result_dir, kwargs):\n",
    "    setup_logging(Path(result_dir).joinpath(\"log.txt\"))\n",
    "    kwargs['queries'], kwargs['is_complex'] = get_queries(input_dir)\n",
    "    kwargs['result_dir'] = result_dir\n",
    "    results = run(**kwargs)\n",
    "    return results\n",
    "\n",
    "def calculate_fitnesses(genes, results):\n",
    "    for gene, metric in zip(genes, results['metric']):\n",
    "        mean_plddt, ptm = metric[0]['mean_plddt'], metric[0]['ptm']\n",
    "        fitness = (mean_plddt / 100) * 0.5 + ptm * 0.5 + len(gene.get_protein()) * 0.01\n",
    "        gene.fitness = fitness\n",
    "\n",
    "def log_evolution(generations, logfile):\n",
    "    with open(logfile, 'w') as f:\n",
    "        data = [[gene.__dict__ for gene in gen] for gen in generations]\n",
    "        json.dump(data, f)\n",
    "\n",
    "def read_evolution(logfile):\n",
    "    with open(logfile, 'r') as f:\n",
    "        data = json.load(f)\n",
    "        generations = [[Gene(**d) for d in gen] for gen in data]\n",
    "    return generations\n",
    "\n",
    "def plot_fitnesses(generations):\n",
    "    fig = plt.figure()\n",
    "    x = np.arange(len(generations))\n",
    "    y = [np.mean([gene.fitness for gene in gen]) for gen in generations]\n",
    "    yerr = [np.std([gene.fitness for gene in gen]) for gen in generations]\n",
    "    plt.errorbar(x, y, yerr=yerr)\n",
    "    plt.show()"
   ]
  },
  {
   "cell_type": "code",
   "execution_count": 2,
   "metadata": {},
   "outputs": [
    {
     "ename": "NameError",
     "evalue": "name 'default_data_dir' is not defined",
     "output_type": "error",
     "traceback": [
      "\u001b[0;31m---------------------------------------------------------------------------\u001b[0m",
      "\u001b[0;31mNameError\u001b[0m                                 Traceback (most recent call last)",
      "Cell \u001b[0;32mIn[2], line 21\u001b[0m\n\u001b[1;32m      5\u001b[0m folds_path \u001b[38;5;241m=\u001b[39m \u001b[38;5;124m'\u001b[39m\u001b[38;5;124mfolds\u001b[39m\u001b[38;5;124m'\u001b[39m\n\u001b[1;32m      6\u001b[0m logfile \u001b[38;5;241m=\u001b[39m \u001b[38;5;124m'\u001b[39m\u001b[38;5;124mlog.txt\u001b[39m\u001b[38;5;124m'\u001b[39m\n\u001b[1;32m      8\u001b[0m colabfold_params \u001b[38;5;241m=\u001b[39m {\n\u001b[1;32m      9\u001b[0m     \u001b[38;5;124m'\u001b[39m\u001b[38;5;124mmsa_mode\u001b[39m\u001b[38;5;124m'\u001b[39m: \u001b[38;5;124m\"\u001b[39m\u001b[38;5;124msingle_sequence\u001b[39m\u001b[38;5;124m\"\u001b[39m, \u001b[38;5;66;03m#@param [\"MMseqs2 (UniRef+Environmental)\", \"MMseqs2 (UniRef only)\",\"single_sequence\",\"custom\"]\u001b[39;00m\n\u001b[1;32m     10\u001b[0m     \u001b[38;5;124m'\u001b[39m\u001b[38;5;124mnum_models\u001b[39m\u001b[38;5;124m'\u001b[39m: \u001b[38;5;241m1\u001b[39m, \u001b[38;5;66;03m#@param [1,2,3,4,5] {type:\"raw\"}\u001b[39;00m\n\u001b[1;32m     11\u001b[0m     \u001b[38;5;124m'\u001b[39m\u001b[38;5;124mnum_recycles\u001b[39m\u001b[38;5;124m'\u001b[39m: \u001b[38;5;241m3\u001b[39m, \u001b[38;5;66;03m#@param [1,3,6,12,24,48] {type:\"raw\"}\u001b[39;00m\n\u001b[1;32m     12\u001b[0m     \u001b[38;5;124m'\u001b[39m\u001b[38;5;124mstop_at_score\u001b[39m\u001b[38;5;124m'\u001b[39m: \u001b[38;5;241m100\u001b[39m, \u001b[38;5;66;03m#@param {type:\"string\"}\u001b[39;00m\n\u001b[1;32m     13\u001b[0m     \u001b[38;5;124m'\u001b[39m\u001b[38;5;124mnum_relax\u001b[39m\u001b[38;5;124m'\u001b[39m: \u001b[38;5;241m0\u001b[39m, \u001b[38;5;66;03m#@param [0, 1, 5] {type:\"raw\"}\u001b[39;00m\n\u001b[1;32m     14\u001b[0m     \u001b[38;5;124m'\u001b[39m\u001b[38;5;124muse_amber\u001b[39m\u001b[38;5;124m'\u001b[39m: \u001b[38;5;28;01mFalse\u001b[39;00m,\n\u001b[1;32m     15\u001b[0m     \u001b[38;5;124m'\u001b[39m\u001b[38;5;124mrelax_max_iterations\u001b[39m\u001b[38;5;124m'\u001b[39m: \u001b[38;5;241m200\u001b[39m, \u001b[38;5;66;03m#@param [0,200,2000] {type:\"raw\"}\u001b[39;00m\n\u001b[1;32m     16\u001b[0m     \u001b[38;5;124m'\u001b[39m\u001b[38;5;124muse_templates\u001b[39m\u001b[38;5;124m'\u001b[39m: \u001b[38;5;28;01mFalse\u001b[39;00m, \u001b[38;5;66;03m#@param {type:\"boolean\"}\u001b[39;00m\n\u001b[1;32m     17\u001b[0m     \u001b[38;5;124m'\u001b[39m\u001b[38;5;124mkeep_existing_results\u001b[39m\u001b[38;5;124m'\u001b[39m: \u001b[38;5;28;01mTrue\u001b[39;00m, \u001b[38;5;66;03m#@param {type:\"boolean\"}\u001b[39;00m\n\u001b[1;32m     18\u001b[0m     \u001b[38;5;124m'\u001b[39m\u001b[38;5;124mzip_results\u001b[39m\u001b[38;5;124m'\u001b[39m: \u001b[38;5;28;01mFalse\u001b[39;00m, \u001b[38;5;66;03m#@param {type:\"boolean\"}\u001b[39;00m\n\u001b[1;32m     19\u001b[0m     \u001b[38;5;124m'\u001b[39m\u001b[38;5;124mmodel_type\u001b[39m\u001b[38;5;124m'\u001b[39m: \u001b[38;5;124m\"\u001b[39m\u001b[38;5;124mauto\u001b[39m\u001b[38;5;124m\"\u001b[39m,\n\u001b[1;32m     20\u001b[0m     \u001b[38;5;124m'\u001b[39m\u001b[38;5;124mmodel_order\u001b[39m\u001b[38;5;124m'\u001b[39m: [\u001b[38;5;241m1\u001b[39m, \u001b[38;5;241m2\u001b[39m, \u001b[38;5;241m3\u001b[39m, \u001b[38;5;241m4\u001b[39m, \u001b[38;5;241m5\u001b[39m],\n\u001b[0;32m---> 21\u001b[0m     \u001b[38;5;124m'\u001b[39m\u001b[38;5;124mdata_dir\u001b[39m\u001b[38;5;124m'\u001b[39m: \u001b[43mdefault_data_dir\u001b[49m,\n\u001b[1;32m     22\u001b[0m     \u001b[38;5;124m'\u001b[39m\u001b[38;5;124mkeep_existing_results\u001b[39m\u001b[38;5;124m'\u001b[39m: \u001b[38;5;28;01mTrue\u001b[39;00m,\n\u001b[1;32m     23\u001b[0m     \u001b[38;5;124m'\u001b[39m\u001b[38;5;124mrank_by\u001b[39m\u001b[38;5;124m'\u001b[39m: \u001b[38;5;124m\"\u001b[39m\u001b[38;5;124mauto\u001b[39m\u001b[38;5;124m\"\u001b[39m,\n\u001b[1;32m     24\u001b[0m     \u001b[38;5;124m'\u001b[39m\u001b[38;5;124mpair_mode\u001b[39m\u001b[38;5;124m'\u001b[39m: \u001b[38;5;124m\"\u001b[39m\u001b[38;5;124munpaired+paired\u001b[39m\u001b[38;5;124m\"\u001b[39m,\n\u001b[1;32m     25\u001b[0m     \u001b[38;5;124m'\u001b[39m\u001b[38;5;124muser_agent\u001b[39m\u001b[38;5;124m'\u001b[39m: \u001b[38;5;124m\"\u001b[39m\u001b[38;5;124mcolabfold/google-colab-batch\u001b[39m\u001b[38;5;124m\"\u001b[39m,\n\u001b[1;32m     26\u001b[0m }\n",
      "\u001b[0;31mNameError\u001b[0m: name 'default_data_dir' is not defined"
     ]
    }
   ],
   "source": [
    "n_genes = 3\n",
    "n_bases = 50\n",
    "n_generations = 3\n",
    "proteins_path = 'proteins'\n",
    "folds_path = 'folds'\n",
    "logfile = 'log.txt'\n",
    "\n",
    "colabfold_params = {\n",
    "    'msa_mode': \"single_sequence\", #@param [\"MMseqs2 (UniRef+Environmental)\", \"MMseqs2 (UniRef only)\",\"single_sequence\",\"custom\"]\n",
    "    'num_models': 1, #@param [1,2,3,4,5] {type:\"raw\"}\n",
    "    'num_recycles': 3, #@param [1,3,6,12,24,48] {type:\"raw\"}\n",
    "    'stop_at_score': 100, #@param {type:\"string\"}\n",
    "    'num_relax': 0, #@param [0, 1, 5] {type:\"raw\"}\n",
    "    'use_amber': False,\n",
    "    'relax_max_iterations': 200, #@param [0,200,2000] {type:\"raw\"}\n",
    "    'use_templates': False, #@param {type:\"boolean\"}\n",
    "    'keep_existing_results': True, #@param {type:\"boolean\"}\n",
    "    'zip_results': False, #@param {type:\"boolean\"}\n",
    "    'model_type': \"auto\",\n",
    "    'model_order': [1, 2, 3, 4, 5],\n",
    "    'data_dir': default_data_dir,\n",
    "    'keep_existing_results': True,\n",
    "    'rank_by': \"auto\",\n",
    "    'pair_mode': \"unpaired+paired\",\n",
    "    'user_agent': \"colabfold/google-colab-batch\",\n",
    "}"
   ]
  },
  {
   "cell_type": "code",
   "execution_count": 6,
   "metadata": {},
   "outputs": [],
   "source": [
    "clear_dir(proteins_path)\n",
    "clear_dir(folds_path)"
   ]
  },
  {
   "cell_type": "code",
   "execution_count": 7,
   "metadata": {},
   "outputs": [
    {
     "name": "stderr",
     "output_type": "stream",
     "text": [
      "/home/ben/code/localcolabfold/colabfold-conda/lib/python3.10/site-packages/Bio/Seq.py:2880: BiopythonWarning: Partial codon, len(sequence) not a multiple of three. Explicitly trim the sequence or add trailing N before translation. This may become an error in future.\n",
      "  warnings.warn(\n"
     ]
    },
    {
     "name": "stdout",
     "output_type": "stream",
     "text": [
      "2024-12-30 11:42:28,766 Running on GPU\n",
      "2024-12-30 11:42:29,048 Found 2 citations for tools or databases\n",
      "2024-12-30 11:42:29,049 Query 1/2: gene0 (length 16)\n"
     ]
    },
    {
     "name": "stderr",
     "output_type": "stream",
     "text": [
      "WARNING: All log messages before absl::InitializeLog() is called are written to STDERR\n",
      "I0000 00:00:1735576956.193201    6759 mlir_graph_optimization_pass.cc:401] MLIR V1 optimization pass is not enabled\n"
     ]
    },
    {
     "name": "stdout",
     "output_type": "stream",
     "text": [
      "2024-12-30 11:42:45,153 alphafold2_ptm_model_1_seed_000 recycle=0 pLDDT=71.7 pTM=0.0291\n",
      "2024-12-30 11:42:45,251 alphafold2_ptm_model_1_seed_000 recycle=1 pLDDT=74.7 pTM=0.0305 tol=0.113\n",
      "2024-12-30 11:42:45,346 alphafold2_ptm_model_1_seed_000 recycle=2 pLDDT=75.2 pTM=0.0308 tol=0.0355\n",
      "2024-12-30 11:42:45,439 alphafold2_ptm_model_1_seed_000 recycle=3 pLDDT=75.6 pTM=0.031 tol=0.0432\n",
      "2024-12-30 11:42:45,439 alphafold2_ptm_model_1_seed_000 took 9.0s (3 recycles)\n",
      "2024-12-30 11:42:45,442 reranking models by 'plddt' metric\n",
      "2024-12-30 11:42:45,442 rank_001_alphafold2_ptm_model_1_seed_000 pLDDT=75.6 pTM=0.031\n",
      "2024-12-30 11:42:45,746 Query 2/2: gene1 (length 16)\n",
      "2024-12-30 11:42:46,940 alphafold2_ptm_model_1_seed_000 recycle=0 pLDDT=66.2 pTM=0.0266\n",
      "2024-12-30 11:42:47,040 alphafold2_ptm_model_1_seed_000 recycle=1 pLDDT=65.7 pTM=0.0268 tol=1.29\n",
      "2024-12-30 11:42:47,139 alphafold2_ptm_model_1_seed_000 recycle=2 pLDDT=67.4 pTM=0.0269 tol=0.468\n",
      "2024-12-30 11:42:47,239 alphafold2_ptm_model_1_seed_000 recycle=3 pLDDT=67.9 pTM=0.0273 tol=0.315\n",
      "2024-12-30 11:42:47,240 alphafold2_ptm_model_1_seed_000 took 0.4s (3 recycles)\n",
      "2024-12-30 11:42:47,243 reranking models by 'plddt' metric\n",
      "2024-12-30 11:42:47,243 rank_001_alphafold2_ptm_model_1_seed_000 pLDDT=67.9 pTM=0.0273\n"
     ]
    },
    {
     "name": "stderr",
     "output_type": "stream",
     "text": [
      "/home/ben/code/localcolabfold/colabfold-conda/lib/python3.10/site-packages/Bio/Seq.py:2880: BiopythonWarning: Partial codon, len(sequence) not a multiple of three. Explicitly trim the sequence or add trailing N before translation. This may become an error in future.\n",
      "  warnings.warn(\n"
     ]
    },
    {
     "name": "stdout",
     "output_type": "stream",
     "text": [
      "2024-12-30 11:42:47,704 Done\n"
     ]
    },
    {
     "name": "stderr",
     "output_type": "stream",
     "text": [
      "  0%|          | 0/3 [00:00<?, ?it/s]"
     ]
    },
    {
     "name": "stdout",
     "output_type": "stream",
     "text": [
      "2024-12-30 11:42:47,707 Running on GPU\n",
      "2024-12-30 11:42:47,711 Found 2 citations for tools or databases\n",
      "2024-12-30 11:42:47,713 Query 1/2: gene1 (length 16)\n"
     ]
    },
    {
     "name": "stderr",
     "output_type": "stream",
     "text": [
      "  0%|          | 0/3 [00:03<?, ?it/s]"
     ]
    },
    {
     "name": "stdout",
     "output_type": "stream",
     "text": [
      "2024-12-30 11:42:51,072 Padding length to 18\n"
     ]
    },
    {
     "name": "stderr",
     "output_type": "stream",
     "text": [
      "  0%|          | 0/3 [00:13<?, ?it/s]"
     ]
    },
    {
     "name": "stdout",
     "output_type": "stream",
     "text": [
      "2024-12-30 11:43:00,980 alphafold2_ptm_model_1_seed_000 recycle=0 pLDDT=73.2 pTM=0.0322\n",
      "2024-12-30 11:43:01,101 alphafold2_ptm_model_1_seed_000 recycle=1 pLDDT=78.9 pTM=0.0354 tol=0.447\n"
     ]
    },
    {
     "name": "stderr",
     "output_type": "stream",
     "text": [
      "  0%|          | 0/3 [00:13<?, ?it/s]"
     ]
    },
    {
     "name": "stdout",
     "output_type": "stream",
     "text": [
      "2024-12-30 11:43:01,222 alphafold2_ptm_model_1_seed_000 recycle=2 pLDDT=79.5 pTM=0.0359 tol=0.0635\n",
      "2024-12-30 11:43:01,341 alphafold2_ptm_model_1_seed_000 recycle=3 pLDDT=79.6 pTM=0.0363 tol=0.0268\n",
      "2024-12-30 11:43:01,343 alphafold2_ptm_model_1_seed_000 took 10.3s (3 recycles)\n",
      "2024-12-30 11:43:01,348 reranking models by 'plddt' metric\n",
      "2024-12-30 11:43:01,351 rank_001_alphafold2_ptm_model_1_seed_000 pLDDT=79.6 pTM=0.0363\n"
     ]
    },
    {
     "name": "stderr",
     "output_type": "stream",
     "text": [
      "  0%|          | 0/3 [00:13<?, ?it/s]"
     ]
    },
    {
     "name": "stdout",
     "output_type": "stream",
     "text": [
      "2024-12-30 11:43:01,659 Query 2/2: gene0 (length 18)\n"
     ]
    },
    {
     "name": "stderr",
     "output_type": "stream",
     "text": [
      "  0%|          | 0/3 [00:15<?, ?it/s]"
     ]
    },
    {
     "name": "stdout",
     "output_type": "stream",
     "text": [
      "2024-12-30 11:43:02,898 alphafold2_ptm_model_1_seed_000 recycle=0 pLDDT=75.2 pTM=0.0282\n",
      "2024-12-30 11:43:03,016 alphafold2_ptm_model_1_seed_000 recycle=1 pLDDT=81.8 pTM=0.0318 tol=0.109\n"
     ]
    },
    {
     "name": "stderr",
     "output_type": "stream",
     "text": [
      "  0%|          | 0/3 [00:15<?, ?it/s]"
     ]
    },
    {
     "name": "stdout",
     "output_type": "stream",
     "text": [
      "2024-12-30 11:43:03,134 alphafold2_ptm_model_1_seed_000 recycle=2 pLDDT=82.9 pTM=0.0327 tol=0.0285\n",
      "2024-12-30 11:43:03,254 alphafold2_ptm_model_1_seed_000 recycle=3 pLDDT=83.1 pTM=0.033 tol=0.0221\n",
      "2024-12-30 11:43:03,257 alphafold2_ptm_model_1_seed_000 took 0.5s (3 recycles)\n",
      "2024-12-30 11:43:03,262 reranking models by 'plddt' metric\n",
      "2024-12-30 11:43:03,264 rank_001_alphafold2_ptm_model_1_seed_000 pLDDT=83.1 pTM=0.033\n"
     ]
    },
    {
     "name": "stderr",
     "output_type": "stream",
     "text": [
      "  0%|          | 0/3 [00:15<?, ?it/s]/home/ben/code/localcolabfold/colabfold-conda/lib/python3.10/site-packages/Bio/Seq.py:2880: BiopythonWarning: Partial codon, len(sequence) not a multiple of three. Explicitly trim the sequence or add trailing N before translation. This may become an error in future.\n",
      "  warnings.warn(\n",
      " 33%|███▎      | 1/3 [00:15<00:31, 15.86s/it]"
     ]
    },
    {
     "name": "stdout",
     "output_type": "stream",
     "text": [
      "2024-12-30 11:43:03,558 Done\n",
      "2024-12-30 11:43:03,571 Running on GPU\n",
      "2024-12-30 11:43:03,575 Found 2 citations for tools or databases\n",
      "2024-12-30 11:43:03,578 Query 1/3: gene1 (length 17)\n"
     ]
    },
    {
     "name": "stderr",
     "output_type": "stream",
     "text": [
      " 33%|███▎      | 1/3 [00:19<00:31, 15.86s/it]"
     ]
    },
    {
     "name": "stdout",
     "output_type": "stream",
     "text": [
      "2024-12-30 11:43:06,882 Padding length to 27\n"
     ]
    },
    {
     "name": "stderr",
     "output_type": "stream",
     "text": [
      " 33%|███▎      | 1/3 [00:29<00:31, 15.86s/it]"
     ]
    },
    {
     "name": "stdout",
     "output_type": "stream",
     "text": [
      "2024-12-30 11:43:16,624 alphafold2_ptm_model_1_seed_000 recycle=0 pLDDT=68.4 pTM=0.0286\n",
      "2024-12-30 11:43:16,781 alphafold2_ptm_model_1_seed_000 recycle=1 pLDDT=66.9 pTM=0.028 tol=0.56\n"
     ]
    },
    {
     "name": "stderr",
     "output_type": "stream",
     "text": [
      " 33%|███▎      | 1/3 [00:29<00:31, 15.86s/it]"
     ]
    },
    {
     "name": "stdout",
     "output_type": "stream",
     "text": [
      "2024-12-30 11:43:16,936 alphafold2_ptm_model_1_seed_000 recycle=2 pLDDT=71.8 pTM=0.0307 tol=0.606\n",
      "2024-12-30 11:43:17,091 alphafold2_ptm_model_1_seed_000 recycle=3 pLDDT=74.3 pTM=0.0325 tol=0.781\n",
      "2024-12-30 11:43:17,094 alphafold2_ptm_model_1_seed_000 took 10.2s (3 recycles)\n",
      "2024-12-30 11:43:17,103 reranking models by 'plddt' metric\n",
      "2024-12-30 11:43:17,106 rank_001_alphafold2_ptm_model_1_seed_000 pLDDT=74.3 pTM=0.0325\n"
     ]
    },
    {
     "name": "stderr",
     "output_type": "stream",
     "text": [
      " 33%|███▎      | 1/3 [00:29<00:31, 15.86s/it]"
     ]
    },
    {
     "name": "stdout",
     "output_type": "stream",
     "text": [
      "2024-12-30 11:43:17,411 Query 2/3: gene2 (length 17)\n"
     ]
    },
    {
     "name": "stderr",
     "output_type": "stream",
     "text": [
      " 33%|███▎      | 1/3 [00:31<00:31, 15.86s/it]"
     ]
    },
    {
     "name": "stdout",
     "output_type": "stream",
     "text": [
      "2024-12-30 11:43:18,746 Padding length to 27\n",
      "2024-12-30 11:43:18,907 alphafold2_ptm_model_1_seed_000 recycle=0 pLDDT=74.1 pTM=0.0296\n"
     ]
    },
    {
     "name": "stderr",
     "output_type": "stream",
     "text": [
      " 33%|███▎      | 1/3 [00:31<00:31, 15.86s/it]"
     ]
    },
    {
     "name": "stdout",
     "output_type": "stream",
     "text": [
      "2024-12-30 11:43:19,069 alphafold2_ptm_model_1_seed_000 recycle=1 pLDDT=77.2 pTM=0.0316 tol=1.09\n",
      "2024-12-30 11:43:19,225 alphafold2_ptm_model_1_seed_000 recycle=2 pLDDT=74.8 pTM=0.0301 tol=1.35\n"
     ]
    },
    {
     "name": "stderr",
     "output_type": "stream",
     "text": [
      " 33%|███▎      | 1/3 [00:31<00:31, 15.86s/it]"
     ]
    },
    {
     "name": "stdout",
     "output_type": "stream",
     "text": [
      "2024-12-30 11:43:19,379 alphafold2_ptm_model_1_seed_000 recycle=3 pLDDT=72.3 pTM=0.0292 tol=0.758\n",
      "2024-12-30 11:43:19,382 alphafold2_ptm_model_1_seed_000 took 0.6s (3 recycles)\n",
      "2024-12-30 11:43:19,387 reranking models by 'plddt' metric\n",
      "2024-12-30 11:43:19,389 rank_001_alphafold2_ptm_model_1_seed_000 pLDDT=72.3 pTM=0.0292\n"
     ]
    },
    {
     "name": "stderr",
     "output_type": "stream",
     "text": [
      " 33%|███▎      | 1/3 [00:31<00:31, 15.86s/it]"
     ]
    },
    {
     "name": "stdout",
     "output_type": "stream",
     "text": [
      "2024-12-30 11:43:19,696 Query 3/3: gene0 (length 27)\n"
     ]
    },
    {
     "name": "stderr",
     "output_type": "stream",
     "text": [
      " 33%|███▎      | 1/3 [00:33<00:31, 15.86s/it]"
     ]
    },
    {
     "name": "stdout",
     "output_type": "stream",
     "text": [
      "2024-12-30 11:43:20,954 alphafold2_ptm_model_1_seed_000 recycle=0 pLDDT=61.7 pTM=0.181\n",
      "2024-12-30 11:43:21,111 alphafold2_ptm_model_1_seed_000 recycle=1 pLDDT=65.6 pTM=0.189 tol=1.98\n"
     ]
    },
    {
     "name": "stderr",
     "output_type": "stream",
     "text": [
      " 33%|███▎      | 1/3 [00:33<00:31, 15.86s/it]"
     ]
    },
    {
     "name": "stdout",
     "output_type": "stream",
     "text": [
      "2024-12-30 11:43:21,263 alphafold2_ptm_model_1_seed_000 recycle=2 pLDDT=66.6 pTM=0.196 tol=0.421\n",
      "2024-12-30 11:43:21,416 alphafold2_ptm_model_1_seed_000 recycle=3 pLDDT=67.1 pTM=0.198 tol=0.425\n",
      "2024-12-30 11:43:21,419 alphafold2_ptm_model_1_seed_000 took 0.6s (3 recycles)\n",
      "2024-12-30 11:43:21,425 reranking models by 'plddt' metric\n",
      "2024-12-30 11:43:21,427 rank_001_alphafold2_ptm_model_1_seed_000 pLDDT=67.1 pTM=0.198\n"
     ]
    },
    {
     "name": "stderr",
     "output_type": "stream",
     "text": [
      " 33%|███▎      | 1/3 [00:34<00:31, 15.86s/it]/home/ben/code/localcolabfold/colabfold-conda/lib/python3.10/site-packages/Bio/Seq.py:2880: BiopythonWarning: Partial codon, len(sequence) not a multiple of three. Explicitly trim the sequence or add trailing N before translation. This may become an error in future.\n",
      "  warnings.warn(\n",
      " 67%|██████▋   | 2/3 [00:34<00:17, 17.21s/it]"
     ]
    },
    {
     "name": "stdout",
     "output_type": "stream",
     "text": [
      "2024-12-30 11:43:21,725 Done\n",
      "2024-12-30 11:43:21,730 Running on GPU\n",
      "2024-12-30 11:43:21,735 Found 2 citations for tools or databases\n",
      "2024-12-30 11:43:21,738 Query 1/3: gene1 (length 5)\n"
     ]
    },
    {
     "name": "stderr",
     "output_type": "stream",
     "text": [
      " 67%|██████▋   | 2/3 [00:37<00:17, 17.21s/it]"
     ]
    },
    {
     "name": "stdout",
     "output_type": "stream",
     "text": [
      "2024-12-30 11:43:25,207 Padding length to 15\n"
     ]
    },
    {
     "name": "stderr",
     "output_type": "stream",
     "text": [
      " 67%|██████▋   | 2/3 [00:47<00:17, 17.21s/it]"
     ]
    },
    {
     "name": "stdout",
     "output_type": "stream",
     "text": [
      "2024-12-30 11:43:35,196 alphafold2_ptm_model_1_seed_000 recycle=0 pLDDT=73.4 pTM=0.0746\n",
      "2024-12-30 11:43:35,320 alphafold2_ptm_model_1_seed_000 recycle=1 pLDDT=58.4 pTM=0.0709 tol=1.4\n"
     ]
    },
    {
     "name": "stderr",
     "output_type": "stream",
     "text": [
      " 67%|██████▋   | 2/3 [00:47<00:17, 17.21s/it]"
     ]
    },
    {
     "name": "stdout",
     "output_type": "stream",
     "text": [
      "2024-12-30 11:43:35,427 alphafold2_ptm_model_1_seed_000 recycle=2 pLDDT=47.8 pTM=0.0715 tol=2.24\n",
      "2024-12-30 11:43:35,536 alphafold2_ptm_model_1_seed_000 recycle=3 pLDDT=33 pTM=0.0649 tol=1.25\n",
      "2024-12-30 11:43:35,539 alphafold2_ptm_model_1_seed_000 took 10.3s (3 recycles)\n",
      "2024-12-30 11:43:35,544 reranking models by 'plddt' metric\n",
      "2024-12-30 11:43:35,547 rank_001_alphafold2_ptm_model_1_seed_000 pLDDT=33 pTM=0.0649\n"
     ]
    },
    {
     "name": "stderr",
     "output_type": "stream",
     "text": [
      " 67%|██████▋   | 2/3 [00:48<00:17, 17.21s/it]"
     ]
    },
    {
     "name": "stdout",
     "output_type": "stream",
     "text": [
      "2024-12-30 11:43:35,867 Query 2/3: gene2 (length 13)\n"
     ]
    },
    {
     "name": "stderr",
     "output_type": "stream",
     "text": [
      " 67%|██████▋   | 2/3 [00:49<00:17, 17.21s/it]"
     ]
    },
    {
     "name": "stdout",
     "output_type": "stream",
     "text": [
      "2024-12-30 11:43:37,204 Padding length to 15\n",
      "2024-12-30 11:43:37,314 alphafold2_ptm_model_1_seed_000 recycle=0 pLDDT=69.9 pTM=0.0348\n"
     ]
    },
    {
     "name": "stderr",
     "output_type": "stream",
     "text": [
      " 67%|██████▋   | 2/3 [00:49<00:17, 17.21s/it]"
     ]
    },
    {
     "name": "stdout",
     "output_type": "stream",
     "text": [
      "2024-12-30 11:43:37,417 alphafold2_ptm_model_1_seed_000 recycle=1 pLDDT=77.8 pTM=0.0417 tol=0.585\n",
      "2024-12-30 11:43:37,524 alphafold2_ptm_model_1_seed_000 recycle=2 pLDDT=79.6 pTM=0.0422 tol=0.0914\n"
     ]
    },
    {
     "name": "stderr",
     "output_type": "stream",
     "text": [
      " 67%|██████▋   | 2/3 [00:49<00:17, 17.21s/it]"
     ]
    },
    {
     "name": "stdout",
     "output_type": "stream",
     "text": [
      "2024-12-30 11:43:37,630 alphafold2_ptm_model_1_seed_000 recycle=3 pLDDT=79.8 pTM=0.0428 tol=0.206\n",
      "2024-12-30 11:43:37,634 alphafold2_ptm_model_1_seed_000 took 0.4s (3 recycles)\n",
      "2024-12-30 11:43:37,643 reranking models by 'plddt' metric\n",
      "2024-12-30 11:43:37,646 rank_001_alphafold2_ptm_model_1_seed_000 pLDDT=79.8 pTM=0.0428\n"
     ]
    },
    {
     "name": "stderr",
     "output_type": "stream",
     "text": [
      " 67%|██████▋   | 2/3 [00:50<00:17, 17.21s/it]"
     ]
    },
    {
     "name": "stdout",
     "output_type": "stream",
     "text": [
      "2024-12-30 11:43:37,960 Query 3/3: gene0 (length 18)\n"
     ]
    },
    {
     "name": "stderr",
     "output_type": "stream",
     "text": [
      " 67%|██████▋   | 2/3 [00:59<00:17, 17.21s/it]"
     ]
    },
    {
     "name": "stdout",
     "output_type": "stream",
     "text": [
      "2024-12-30 11:43:47,304 alphafold2_ptm_model_1_seed_000 recycle=0 pLDDT=70.2 pTM=0.0284\n",
      "2024-12-30 11:43:47,429 alphafold2_ptm_model_1_seed_000 recycle=1 pLDDT=73.6 pTM=0.0307 tol=0.168\n"
     ]
    },
    {
     "name": "stderr",
     "output_type": "stream",
     "text": [
      " 67%|██████▋   | 2/3 [00:59<00:17, 17.21s/it]"
     ]
    },
    {
     "name": "stdout",
     "output_type": "stream",
     "text": [
      "2024-12-30 11:43:47,553 alphafold2_ptm_model_1_seed_000 recycle=2 pLDDT=74.2 pTM=0.0311 tol=0.0664\n",
      "2024-12-30 11:43:47,679 alphafold2_ptm_model_1_seed_000 recycle=3 pLDDT=74.3 pTM=0.0311 tol=0.0814\n",
      "2024-12-30 11:43:47,682 alphafold2_ptm_model_1_seed_000 took 8.6s (3 recycles)\n",
      "2024-12-30 11:43:47,691 reranking models by 'plddt' metric\n",
      "2024-12-30 11:43:47,695 rank_001_alphafold2_ptm_model_1_seed_000 pLDDT=74.3 pTM=0.0311\n"
     ]
    },
    {
     "name": "stderr",
     "output_type": "stream",
     "text": [
      " 67%|██████▋   | 2/3 [01:00<00:17, 17.21s/it]/home/ben/code/localcolabfold/colabfold-conda/lib/python3.10/site-packages/Bio/Seq.py:2880: BiopythonWarning: Partial codon, len(sequence) not a multiple of three. Explicitly trim the sequence or add trailing N before translation. This may become an error in future.\n",
      "  warnings.warn(\n",
      "100%|██████████| 3/3 [01:00<00:00, 20.11s/it]"
     ]
    },
    {
     "name": "stdout",
     "output_type": "stream",
     "text": [
      "2024-12-30 11:43:48,030 Done\n"
     ]
    },
    {
     "name": "stderr",
     "output_type": "stream",
     "text": [
      "\n"
     ]
    }
   ],
   "source": [
    "# first generation\n",
    "generation = [Gene.generate(n_bases) for _ in range(n_genes)]\n",
    "# filter empty proteins (begins with stop codon)\n",
    "generation = [gene for gene in generation if len(gene.get_protein()) > 0]\n",
    "save_proteins(generation, f'{proteins_path}/gen{0}')\n",
    "results = fold(f'{proteins_path}/gen{0}', f'{folds_path}/gen{0}', colabfold_params)\n",
    "calculate_fitnesses(generation, results)\n",
    "generations = [generation]\n",
    "\n",
    "# subsequent generations\n",
    "for i in trange(1, n_generations+1):\n",
    "    \n",
    "    mutations = [gene.random_mutation() for gene in generation]\n",
    "    # remove empty proteins\n",
    "    mutations = [gene for gene in mutations if len(gene.get_protein()) > 0]\n",
    "\n",
    "    # fold mutated proteins and calculate fitnesses as a batch\n",
    "    save_proteins(mutations, f'{proteins_path}/gen{i}')\n",
    "    results = fold(f'{proteins_path}/gen{i}', f'{folds_path}/gen{i}', colabfold_params)\n",
    "    calculate_fitnesses(mutations, results)\n",
    "    generation += mutations\n",
    "\n",
    "    # stochastic selection\n",
    "    fitnesses = [gene.fitness for gene in generation]\n",
    "    generation = np.random.choice(generation, size=n_genes, replace=False, p=np.divide(fitnesses, sum(fitnesses))).tolist()\n",
    "    generations.append(generation)\n",
    "\n",
    "log_evolution(generations, logfile)"
   ]
  },
  {
   "cell_type": "code",
   "execution_count": 8,
   "metadata": {},
   "outputs": [],
   "source": [
    "generations = read_evolution(logfile)"
   ]
  },
  {
   "cell_type": "code",
   "execution_count": 11,
   "metadata": {},
   "outputs": [
    {
     "data": {
      "image/png": "[encoded data removed]",
      "text/plain": [
       "<Figure size 640x480 with 1 Axes>"
      ]
     },
     "metadata": {},
     "output_type": "display_data"
    }
   ],
   "source": [
    "%matplotlib inline\n",
    "plot_fitnesses(generations)"
   ]
  },
  {
   "cell_type": "code",
   "execution_count": 12,
   "metadata": {},
   "outputs": [
    {
     "ename": "ModuleNotFoundError",
     "evalue": "No module named 'pymol'",
     "output_type": "error",
     "traceback": [
      "\u001b[0;31m---------------------------------------------------------------------------\u001b[0m",
      "\u001b[0;31mModuleNotFoundError\u001b[0m                       Traceback (most recent call last)",
      "Cell \u001b[0;32mIn[12], line 1\u001b[0m\n\u001b[0;32m----> 1\u001b[0m \u001b[38;5;28;01mfrom\u001b[39;00m \u001b[38;5;21;01mpymol\u001b[39;00m \u001b[38;5;28;01mimport\u001b[39;00m cmd\n",
      "\u001b[0;31mModuleNotFoundError\u001b[0m: No module named 'pymol'"
     ]
    }
   ],
   "source": [
    "from pymol import cmd"
   ]
  },
  {
   "cell_type": "code",
   "execution_count": 14,
   "metadata": {},
   "outputs": [
    {
     "name": "stderr",
     "output_type": "stream",
     "text": [
      "/home/ben/code/localcolabfold/colabfold-conda/lib/python3.10/pty.py:89: RuntimeWarning: os.fork() was called. os.fork() is incompatible with multithreaded code, and JAX is multithreaded, so this will likely lead to a deadlock.\n",
      "  pid, fd = os.forkpty()\n"
     ]
    },
    {
     "name": "stdout",
     "output_type": "stream",
     "text": [
      "Looking in indexes: https://pypi.org/simple, https://pypi.ngc.nvidia.com\n",
      "\u001b[31mERROR: Could not find a version that satisfies the requirement pymol-open-source (from versions: none)\u001b[0m\u001b[31m\n",
      "\u001b[0m\u001b[31mERROR: No matching distribution found for pymol-open-source\u001b[0m\u001b[31m\n",
      "\u001b[0mNote: you may need to restart the kernel to use updated packages.\n"
     ]
    }
   ],
   "source": [
    "%pip install pymol-open-source"
   ]
  },
  {
   "cell_type": "code",
   "execution_count": null,
   "metadata": {},
   "outputs": [],
   "source": []
  }
 ],
 "metadata": {
  "kernelspec": {
   "display_name": "colabfold-conda",
   "language": "python",
   "name": "python3"
  },
  "language_info": {
   "codemirror_mode": {
    "name": "ipython",
    "version": 3
   },
   "file_extension": ".py",
   "mimetype": "text/x-python",
   "name": "python",
   "nbconvert_exporter": "python",
   "pygments_lexer": "ipython3",
   "version": "3.10.15"
  }
 },
 "nbformat": 4,
 "nbformat_minor": 2
}
